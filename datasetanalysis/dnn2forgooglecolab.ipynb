{
  "nbformat": 4,
  "nbformat_minor": 0,
  "metadata": {
    "kernelspec": {
      "display_name": "Python 3",
      "language": "python",
      "name": "python3"
    },
    "language_info": {
      "codemirror_mode": {
        "name": "ipython",
        "version": 3
      },
      "file_extension": ".py",
      "mimetype": "text/x-python",
      "name": "python",
      "nbconvert_exporter": "python",
      "pygments_lexer": "ipython3",
      "version": "3.5.2"
    },
    "colab": {
      "name": "dnn2forgooglecolab.ipynb",
      "provenance": [],
      "collapsed_sections": []
    }
  },
  "cells": [
    {
      "cell_type": "markdown",
      "metadata": {
        "id": "eNMbn3xGDAbt"
      },
      "source": [
        "##The CIFAR 10 Dataset\n",
        "\n",
        "Packages that are needed:"
      ]
    },
    {
      "cell_type": "code",
      "metadata": {
        "id": "6kAHcJ4ZKFAz"
      },
      "source": [
        "from __future__ import print_function\n",
        "\n",
        "import numpy as np\n",
        "import pandas as pd \n",
        "import pickle\n",
        "import os\n",
        "import sklearn\n",
        "import re\n",
        "from scipy import ndimage, misc\n",
        "import cv2\n",
        "import pickle\n",
        "import tensorflow as tf\n",
        "from sklearn.utils import shuffle\n",
        "import matplotlib.pyplot as plt\n",
        "from sklearn.preprocessing import LabelBinarizer\n",
        "%matplotlib inline\n",
        "\n",
        "import keras\n",
        "from keras.datasets import cifar10\n",
        "from keras.datasets import cifar10\n",
        "from keras.preprocessing.image import ImageDataGenerator\n",
        "from keras.models import Sequential\n",
        "from keras.layers import Dense, Dropout, Activation, Flatten\n",
        "from keras.layers import Conv2D, MaxPooling2D\n",
        "import os\n",
        "\n",
        "import requests\n",
        "import tarfile\n"
      ],
      "execution_count": 91,
      "outputs": []
    },
    {
      "cell_type": "markdown",
      "metadata": {
        "id": "eTRLl3YN_2a1"
      },
      "source": [
        "The next downloads the CIFAR 10 package."
      ]
    },
    {
      "cell_type": "code",
      "metadata": {
        "id": "o2-bvdGRKFA0",
        "colab": {
          "base_uri": "https://localhost:8080/"
        },
        "outputId": "362f4862-d17a-456e-c830-c58994adcf1c"
      },
      "source": [
        "url = 'https://www.cs.toronto.edu/~kriz/cifar-10-python.tar.gz'\n",
        "r = requests.get(url, allow_redirects=True)\n",
        "open('cifar-10-python.tar.gz', 'wb').write(r.content)"
      ],
      "execution_count": 92,
      "outputs": [
        {
          "output_type": "execute_result",
          "data": {
            "text/plain": [
              "170498071"
            ]
          },
          "metadata": {
            "tags": []
          },
          "execution_count": 92
        }
      ]
    },
    {
      "cell_type": "markdown",
      "metadata": {
        "id": "Xa2dPmCUDKlh"
      },
      "source": [
        "In Google Colab, that Cifar 10 package, a tar.gz file, gets downloaded in the \"/content/\" directory, please adjust in case you do not use Google Colab and it was downloaded in another folder."
      ]
    },
    {
      "cell_type": "code",
      "metadata": {
        "id": "Xvmds5GW7-vg"
      },
      "source": [
        "tf = tarfile.open(\"/content/cifar-10-python.tar.gz\")\n",
        "tf.extractall()"
      ],
      "execution_count": 93,
      "outputs": []
    },
    {
      "cell_type": "markdown",
      "metadata": {
        "id": "AwU4ZtULDWMJ"
      },
      "source": [
        "The \"unpickle\" function, as defined on the CIFAR homepage (https://www.cs.toronto.edu/~kriz/cifar.html):\n"
      ]
    },
    {
      "cell_type": "code",
      "metadata": {
        "id": "DNV-U77u7--x"
      },
      "source": [
        "def unpickle(file):\n",
        "    import pickle\n",
        "    with open(file, 'rb') as fo:\n",
        "        dict = pickle.load(fo, encoding='bytes')\n",
        "    return dict"
      ],
      "execution_count": 94,
      "outputs": []
    },
    {
      "cell_type": "markdown",
      "metadata": {
        "id": "Y3op85R1KFA1"
      },
      "source": [
        "Unpickling batches of training data and separating pixel values and labels into different dataframes."
      ]
    },
    {
      "cell_type": "code",
      "metadata": {
        "scrolled": true,
        "colab": {
          "base_uri": "https://localhost:8080/",
          "height": 253
        },
        "id": "ENtnJFADKFA1",
        "outputId": "17d355db-1edd-466c-c510-af4b5289440e"
      },
      "source": [
        "pd_tr = pd.DataFrame()\n",
        "tr_y = pd.DataFrame()\n",
        "for i in range(1,6):\n",
        "    data = unpickle('/content/cifar-10-batches-py/data_batch_' + str(i)) \n",
        "    pd_tr = pd_tr.append(pd.DataFrame(data[b'data']))\n",
        "    tr_y = tr_y.append(pd.DataFrame(data[b'labels']))\n",
        "pd_tr['labels'] = tr_y\n",
        "pd_tr.head(5)"
      ],
      "execution_count": 95,
      "outputs": [
        {
          "output_type": "execute_result",
          "data": {
            "text/html": [
              "<div>\n",
              "<style scoped>\n",
              "    .dataframe tbody tr th:only-of-type {\n",
              "        vertical-align: middle;\n",
              "    }\n",
              "\n",
              "    .dataframe tbody tr th {\n",
              "        vertical-align: top;\n",
              "    }\n",
              "\n",
              "    .dataframe thead th {\n",
              "        text-align: right;\n",
              "    }\n",
              "</style>\n",
              "<table border=\"1\" class=\"dataframe\">\n",
              "  <thead>\n",
              "    <tr style=\"text-align: right;\">\n",
              "      <th></th>\n",
              "      <th>0</th>\n",
              "      <th>1</th>\n",
              "      <th>2</th>\n",
              "      <th>3</th>\n",
              "      <th>4</th>\n",
              "      <th>5</th>\n",
              "      <th>6</th>\n",
              "      <th>7</th>\n",
              "      <th>8</th>\n",
              "      <th>9</th>\n",
              "      <th>10</th>\n",
              "      <th>11</th>\n",
              "      <th>12</th>\n",
              "      <th>13</th>\n",
              "      <th>14</th>\n",
              "      <th>15</th>\n",
              "      <th>16</th>\n",
              "      <th>17</th>\n",
              "      <th>18</th>\n",
              "      <th>19</th>\n",
              "      <th>20</th>\n",
              "      <th>21</th>\n",
              "      <th>22</th>\n",
              "      <th>23</th>\n",
              "      <th>24</th>\n",
              "      <th>25</th>\n",
              "      <th>26</th>\n",
              "      <th>27</th>\n",
              "      <th>28</th>\n",
              "      <th>29</th>\n",
              "      <th>30</th>\n",
              "      <th>31</th>\n",
              "      <th>32</th>\n",
              "      <th>33</th>\n",
              "      <th>34</th>\n",
              "      <th>35</th>\n",
              "      <th>36</th>\n",
              "      <th>37</th>\n",
              "      <th>38</th>\n",
              "      <th>39</th>\n",
              "      <th>...</th>\n",
              "      <th>3033</th>\n",
              "      <th>3034</th>\n",
              "      <th>3035</th>\n",
              "      <th>3036</th>\n",
              "      <th>3037</th>\n",
              "      <th>3038</th>\n",
              "      <th>3039</th>\n",
              "      <th>3040</th>\n",
              "      <th>3041</th>\n",
              "      <th>3042</th>\n",
              "      <th>3043</th>\n",
              "      <th>3044</th>\n",
              "      <th>3045</th>\n",
              "      <th>3046</th>\n",
              "      <th>3047</th>\n",
              "      <th>3048</th>\n",
              "      <th>3049</th>\n",
              "      <th>3050</th>\n",
              "      <th>3051</th>\n",
              "      <th>3052</th>\n",
              "      <th>3053</th>\n",
              "      <th>3054</th>\n",
              "      <th>3055</th>\n",
              "      <th>3056</th>\n",
              "      <th>3057</th>\n",
              "      <th>3058</th>\n",
              "      <th>3059</th>\n",
              "      <th>3060</th>\n",
              "      <th>3061</th>\n",
              "      <th>3062</th>\n",
              "      <th>3063</th>\n",
              "      <th>3064</th>\n",
              "      <th>3065</th>\n",
              "      <th>3066</th>\n",
              "      <th>3067</th>\n",
              "      <th>3068</th>\n",
              "      <th>3069</th>\n",
              "      <th>3070</th>\n",
              "      <th>3071</th>\n",
              "      <th>labels</th>\n",
              "    </tr>\n",
              "  </thead>\n",
              "  <tbody>\n",
              "    <tr>\n",
              "      <th>0</th>\n",
              "      <td>59</td>\n",
              "      <td>43</td>\n",
              "      <td>50</td>\n",
              "      <td>68</td>\n",
              "      <td>98</td>\n",
              "      <td>119</td>\n",
              "      <td>139</td>\n",
              "      <td>145</td>\n",
              "      <td>149</td>\n",
              "      <td>149</td>\n",
              "      <td>131</td>\n",
              "      <td>125</td>\n",
              "      <td>142</td>\n",
              "      <td>144</td>\n",
              "      <td>137</td>\n",
              "      <td>129</td>\n",
              "      <td>137</td>\n",
              "      <td>134</td>\n",
              "      <td>124</td>\n",
              "      <td>139</td>\n",
              "      <td>139</td>\n",
              "      <td>133</td>\n",
              "      <td>136</td>\n",
              "      <td>139</td>\n",
              "      <td>152</td>\n",
              "      <td>163</td>\n",
              "      <td>168</td>\n",
              "      <td>159</td>\n",
              "      <td>158</td>\n",
              "      <td>158</td>\n",
              "      <td>152</td>\n",
              "      <td>148</td>\n",
              "      <td>16</td>\n",
              "      <td>0</td>\n",
              "      <td>18</td>\n",
              "      <td>51</td>\n",
              "      <td>88</td>\n",
              "      <td>120</td>\n",
              "      <td>128</td>\n",
              "      <td>127</td>\n",
              "      <td>...</td>\n",
              "      <td>30</td>\n",
              "      <td>11</td>\n",
              "      <td>0</td>\n",
              "      <td>57</td>\n",
              "      <td>94</td>\n",
              "      <td>34</td>\n",
              "      <td>34</td>\n",
              "      <td>116</td>\n",
              "      <td>94</td>\n",
              "      <td>87</td>\n",
              "      <td>67</td>\n",
              "      <td>68</td>\n",
              "      <td>76</td>\n",
              "      <td>72</td>\n",
              "      <td>70</td>\n",
              "      <td>79</td>\n",
              "      <td>82</td>\n",
              "      <td>86</td>\n",
              "      <td>92</td>\n",
              "      <td>94</td>\n",
              "      <td>92</td>\n",
              "      <td>84</td>\n",
              "      <td>90</td>\n",
              "      <td>93</td>\n",
              "      <td>91</td>\n",
              "      <td>83</td>\n",
              "      <td>77</td>\n",
              "      <td>69</td>\n",
              "      <td>55</td>\n",
              "      <td>59</td>\n",
              "      <td>58</td>\n",
              "      <td>65</td>\n",
              "      <td>59</td>\n",
              "      <td>46</td>\n",
              "      <td>57</td>\n",
              "      <td>104</td>\n",
              "      <td>140</td>\n",
              "      <td>84</td>\n",
              "      <td>72</td>\n",
              "      <td>6</td>\n",
              "    </tr>\n",
              "    <tr>\n",
              "      <th>1</th>\n",
              "      <td>154</td>\n",
              "      <td>126</td>\n",
              "      <td>105</td>\n",
              "      <td>102</td>\n",
              "      <td>125</td>\n",
              "      <td>155</td>\n",
              "      <td>172</td>\n",
              "      <td>180</td>\n",
              "      <td>142</td>\n",
              "      <td>111</td>\n",
              "      <td>106</td>\n",
              "      <td>109</td>\n",
              "      <td>123</td>\n",
              "      <td>127</td>\n",
              "      <td>181</td>\n",
              "      <td>217</td>\n",
              "      <td>209</td>\n",
              "      <td>166</td>\n",
              "      <td>164</td>\n",
              "      <td>158</td>\n",
              "      <td>116</td>\n",
              "      <td>102</td>\n",
              "      <td>95</td>\n",
              "      <td>90</td>\n",
              "      <td>72</td>\n",
              "      <td>60</td>\n",
              "      <td>56</td>\n",
              "      <td>77</td>\n",
              "      <td>94</td>\n",
              "      <td>91</td>\n",
              "      <td>87</td>\n",
              "      <td>79</td>\n",
              "      <td>140</td>\n",
              "      <td>145</td>\n",
              "      <td>125</td>\n",
              "      <td>124</td>\n",
              "      <td>150</td>\n",
              "      <td>152</td>\n",
              "      <td>174</td>\n",
              "      <td>178</td>\n",
              "      <td>...</td>\n",
              "      <td>77</td>\n",
              "      <td>58</td>\n",
              "      <td>52</td>\n",
              "      <td>73</td>\n",
              "      <td>96</td>\n",
              "      <td>120</td>\n",
              "      <td>131</td>\n",
              "      <td>120</td>\n",
              "      <td>122</td>\n",
              "      <td>133</td>\n",
              "      <td>125</td>\n",
              "      <td>32</td>\n",
              "      <td>12</td>\n",
              "      <td>19</td>\n",
              "      <td>70</td>\n",
              "      <td>122</td>\n",
              "      <td>107</td>\n",
              "      <td>99</td>\n",
              "      <td>91</td>\n",
              "      <td>62</td>\n",
              "      <td>30</td>\n",
              "      <td>20</td>\n",
              "      <td>21</td>\n",
              "      <td>42</td>\n",
              "      <td>48</td>\n",
              "      <td>28</td>\n",
              "      <td>11</td>\n",
              "      <td>11</td>\n",
              "      <td>12</td>\n",
              "      <td>22</td>\n",
              "      <td>42</td>\n",
              "      <td>67</td>\n",
              "      <td>101</td>\n",
              "      <td>122</td>\n",
              "      <td>133</td>\n",
              "      <td>136</td>\n",
              "      <td>139</td>\n",
              "      <td>142</td>\n",
              "      <td>144</td>\n",
              "      <td>9</td>\n",
              "    </tr>\n",
              "    <tr>\n",
              "      <th>2</th>\n",
              "      <td>255</td>\n",
              "      <td>253</td>\n",
              "      <td>253</td>\n",
              "      <td>253</td>\n",
              "      <td>253</td>\n",
              "      <td>253</td>\n",
              "      <td>253</td>\n",
              "      <td>253</td>\n",
              "      <td>253</td>\n",
              "      <td>253</td>\n",
              "      <td>253</td>\n",
              "      <td>253</td>\n",
              "      <td>253</td>\n",
              "      <td>253</td>\n",
              "      <td>253</td>\n",
              "      <td>254</td>\n",
              "      <td>245</td>\n",
              "      <td>226</td>\n",
              "      <td>244</td>\n",
              "      <td>241</td>\n",
              "      <td>250</td>\n",
              "      <td>253</td>\n",
              "      <td>252</td>\n",
              "      <td>250</td>\n",
              "      <td>253</td>\n",
              "      <td>253</td>\n",
              "      <td>253</td>\n",
              "      <td>253</td>\n",
              "      <td>253</td>\n",
              "      <td>253</td>\n",
              "      <td>253</td>\n",
              "      <td>253</td>\n",
              "      <td>255</td>\n",
              "      <td>255</td>\n",
              "      <td>255</td>\n",
              "      <td>255</td>\n",
              "      <td>255</td>\n",
              "      <td>255</td>\n",
              "      <td>255</td>\n",
              "      <td>255</td>\n",
              "      <td>...</td>\n",
              "      <td>67</td>\n",
              "      <td>68</td>\n",
              "      <td>76</td>\n",
              "      <td>78</td>\n",
              "      <td>73</td>\n",
              "      <td>75</td>\n",
              "      <td>82</td>\n",
              "      <td>105</td>\n",
              "      <td>98</td>\n",
              "      <td>94</td>\n",
              "      <td>88</td>\n",
              "      <td>87</td>\n",
              "      <td>86</td>\n",
              "      <td>86</td>\n",
              "      <td>89</td>\n",
              "      <td>91</td>\n",
              "      <td>92</td>\n",
              "      <td>88</td>\n",
              "      <td>89</td>\n",
              "      <td>86</td>\n",
              "      <td>85</td>\n",
              "      <td>91</td>\n",
              "      <td>94</td>\n",
              "      <td>95</td>\n",
              "      <td>94</td>\n",
              "      <td>92</td>\n",
              "      <td>90</td>\n",
              "      <td>86</td>\n",
              "      <td>78</td>\n",
              "      <td>78</td>\n",
              "      <td>83</td>\n",
              "      <td>80</td>\n",
              "      <td>69</td>\n",
              "      <td>66</td>\n",
              "      <td>72</td>\n",
              "      <td>79</td>\n",
              "      <td>83</td>\n",
              "      <td>83</td>\n",
              "      <td>84</td>\n",
              "      <td>9</td>\n",
              "    </tr>\n",
              "    <tr>\n",
              "      <th>3</th>\n",
              "      <td>28</td>\n",
              "      <td>37</td>\n",
              "      <td>38</td>\n",
              "      <td>42</td>\n",
              "      <td>44</td>\n",
              "      <td>40</td>\n",
              "      <td>40</td>\n",
              "      <td>24</td>\n",
              "      <td>32</td>\n",
              "      <td>43</td>\n",
              "      <td>30</td>\n",
              "      <td>32</td>\n",
              "      <td>41</td>\n",
              "      <td>52</td>\n",
              "      <td>67</td>\n",
              "      <td>50</td>\n",
              "      <td>44</td>\n",
              "      <td>43</td>\n",
              "      <td>38</td>\n",
              "      <td>38</td>\n",
              "      <td>41</td>\n",
              "      <td>47</td>\n",
              "      <td>62</td>\n",
              "      <td>87</td>\n",
              "      <td>60</td>\n",
              "      <td>49</td>\n",
              "      <td>63</td>\n",
              "      <td>59</td>\n",
              "      <td>48</td>\n",
              "      <td>76</td>\n",
              "      <td>81</td>\n",
              "      <td>85</td>\n",
              "      <td>33</td>\n",
              "      <td>34</td>\n",
              "      <td>32</td>\n",
              "      <td>39</td>\n",
              "      <td>35</td>\n",
              "      <td>38</td>\n",
              "      <td>38</td>\n",
              "      <td>40</td>\n",
              "      <td>...</td>\n",
              "      <td>70</td>\n",
              "      <td>68</td>\n",
              "      <td>68</td>\n",
              "      <td>66</td>\n",
              "      <td>53</td>\n",
              "      <td>49</td>\n",
              "      <td>55</td>\n",
              "      <td>56</td>\n",
              "      <td>53</td>\n",
              "      <td>53</td>\n",
              "      <td>61</td>\n",
              "      <td>61</td>\n",
              "      <td>59</td>\n",
              "      <td>61</td>\n",
              "      <td>44</td>\n",
              "      <td>40</td>\n",
              "      <td>49</td>\n",
              "      <td>53</td>\n",
              "      <td>56</td>\n",
              "      <td>58</td>\n",
              "      <td>57</td>\n",
              "      <td>62</td>\n",
              "      <td>74</td>\n",
              "      <td>62</td>\n",
              "      <td>58</td>\n",
              "      <td>55</td>\n",
              "      <td>67</td>\n",
              "      <td>54</td>\n",
              "      <td>66</td>\n",
              "      <td>53</td>\n",
              "      <td>39</td>\n",
              "      <td>59</td>\n",
              "      <td>42</td>\n",
              "      <td>44</td>\n",
              "      <td>48</td>\n",
              "      <td>38</td>\n",
              "      <td>28</td>\n",
              "      <td>37</td>\n",
              "      <td>46</td>\n",
              "      <td>4</td>\n",
              "    </tr>\n",
              "    <tr>\n",
              "      <th>4</th>\n",
              "      <td>170</td>\n",
              "      <td>168</td>\n",
              "      <td>177</td>\n",
              "      <td>183</td>\n",
              "      <td>181</td>\n",
              "      <td>177</td>\n",
              "      <td>181</td>\n",
              "      <td>184</td>\n",
              "      <td>189</td>\n",
              "      <td>189</td>\n",
              "      <td>188</td>\n",
              "      <td>183</td>\n",
              "      <td>182</td>\n",
              "      <td>184</td>\n",
              "      <td>184</td>\n",
              "      <td>180</td>\n",
              "      <td>177</td>\n",
              "      <td>177</td>\n",
              "      <td>177</td>\n",
              "      <td>176</td>\n",
              "      <td>175</td>\n",
              "      <td>175</td>\n",
              "      <td>173</td>\n",
              "      <td>170</td>\n",
              "      <td>169</td>\n",
              "      <td>168</td>\n",
              "      <td>166</td>\n",
              "      <td>163</td>\n",
              "      <td>163</td>\n",
              "      <td>162</td>\n",
              "      <td>158</td>\n",
              "      <td>157</td>\n",
              "      <td>168</td>\n",
              "      <td>172</td>\n",
              "      <td>171</td>\n",
              "      <td>166</td>\n",
              "      <td>171</td>\n",
              "      <td>174</td>\n",
              "      <td>177</td>\n",
              "      <td>179</td>\n",
              "      <td>...</td>\n",
              "      <td>77</td>\n",
              "      <td>75</td>\n",
              "      <td>73</td>\n",
              "      <td>79</td>\n",
              "      <td>83</td>\n",
              "      <td>78</td>\n",
              "      <td>78</td>\n",
              "      <td>78</td>\n",
              "      <td>79</td>\n",
              "      <td>76</td>\n",
              "      <td>75</td>\n",
              "      <td>82</td>\n",
              "      <td>84</td>\n",
              "      <td>84</td>\n",
              "      <td>89</td>\n",
              "      <td>87</td>\n",
              "      <td>92</td>\n",
              "      <td>93</td>\n",
              "      <td>97</td>\n",
              "      <td>96</td>\n",
              "      <td>98</td>\n",
              "      <td>99</td>\n",
              "      <td>101</td>\n",
              "      <td>102</td>\n",
              "      <td>102</td>\n",
              "      <td>101</td>\n",
              "      <td>102</td>\n",
              "      <td>99</td>\n",
              "      <td>97</td>\n",
              "      <td>92</td>\n",
              "      <td>88</td>\n",
              "      <td>85</td>\n",
              "      <td>82</td>\n",
              "      <td>83</td>\n",
              "      <td>79</td>\n",
              "      <td>78</td>\n",
              "      <td>82</td>\n",
              "      <td>78</td>\n",
              "      <td>80</td>\n",
              "      <td>1</td>\n",
              "    </tr>\n",
              "  </tbody>\n",
              "</table>\n",
              "<p>5 rows × 3073 columns</p>\n",
              "</div>"
            ],
            "text/plain": [
              "     0    1    2    3    4    5  ...  3067  3068  3069  3070  3071  labels\n",
              "0   59   43   50   68   98  119  ...    57   104   140    84    72       6\n",
              "1  154  126  105  102  125  155  ...   133   136   139   142   144       9\n",
              "2  255  253  253  253  253  253  ...    72    79    83    83    84       9\n",
              "3   28   37   38   42   44   40  ...    48    38    28    37    46       4\n",
              "4  170  168  177  183  181  177  ...    79    78    82    78    80       1\n",
              "\n",
              "[5 rows x 3073 columns]"
            ]
          },
          "metadata": {
            "tags": []
          },
          "execution_count": 95
        }
      ]
    },
    {
      "cell_type": "code",
      "metadata": {
        "colab": {
          "base_uri": "https://localhost:8080/",
          "height": 253
        },
        "id": "AnZ-VJlmKFA4",
        "outputId": "4a9b9621-4211-4516-ca94-a61db97c3e12"
      },
      "source": [
        "pd_tr = shuffle(pd_tr)\n",
        "pd_tr.head(5)"
      ],
      "execution_count": 96,
      "outputs": [
        {
          "output_type": "execute_result",
          "data": {
            "text/html": [
              "<div>\n",
              "<style scoped>\n",
              "    .dataframe tbody tr th:only-of-type {\n",
              "        vertical-align: middle;\n",
              "    }\n",
              "\n",
              "    .dataframe tbody tr th {\n",
              "        vertical-align: top;\n",
              "    }\n",
              "\n",
              "    .dataframe thead th {\n",
              "        text-align: right;\n",
              "    }\n",
              "</style>\n",
              "<table border=\"1\" class=\"dataframe\">\n",
              "  <thead>\n",
              "    <tr style=\"text-align: right;\">\n",
              "      <th></th>\n",
              "      <th>0</th>\n",
              "      <th>1</th>\n",
              "      <th>2</th>\n",
              "      <th>3</th>\n",
              "      <th>4</th>\n",
              "      <th>5</th>\n",
              "      <th>6</th>\n",
              "      <th>7</th>\n",
              "      <th>8</th>\n",
              "      <th>9</th>\n",
              "      <th>10</th>\n",
              "      <th>11</th>\n",
              "      <th>12</th>\n",
              "      <th>13</th>\n",
              "      <th>14</th>\n",
              "      <th>15</th>\n",
              "      <th>16</th>\n",
              "      <th>17</th>\n",
              "      <th>18</th>\n",
              "      <th>19</th>\n",
              "      <th>20</th>\n",
              "      <th>21</th>\n",
              "      <th>22</th>\n",
              "      <th>23</th>\n",
              "      <th>24</th>\n",
              "      <th>25</th>\n",
              "      <th>26</th>\n",
              "      <th>27</th>\n",
              "      <th>28</th>\n",
              "      <th>29</th>\n",
              "      <th>30</th>\n",
              "      <th>31</th>\n",
              "      <th>32</th>\n",
              "      <th>33</th>\n",
              "      <th>34</th>\n",
              "      <th>35</th>\n",
              "      <th>36</th>\n",
              "      <th>37</th>\n",
              "      <th>38</th>\n",
              "      <th>39</th>\n",
              "      <th>...</th>\n",
              "      <th>3033</th>\n",
              "      <th>3034</th>\n",
              "      <th>3035</th>\n",
              "      <th>3036</th>\n",
              "      <th>3037</th>\n",
              "      <th>3038</th>\n",
              "      <th>3039</th>\n",
              "      <th>3040</th>\n",
              "      <th>3041</th>\n",
              "      <th>3042</th>\n",
              "      <th>3043</th>\n",
              "      <th>3044</th>\n",
              "      <th>3045</th>\n",
              "      <th>3046</th>\n",
              "      <th>3047</th>\n",
              "      <th>3048</th>\n",
              "      <th>3049</th>\n",
              "      <th>3050</th>\n",
              "      <th>3051</th>\n",
              "      <th>3052</th>\n",
              "      <th>3053</th>\n",
              "      <th>3054</th>\n",
              "      <th>3055</th>\n",
              "      <th>3056</th>\n",
              "      <th>3057</th>\n",
              "      <th>3058</th>\n",
              "      <th>3059</th>\n",
              "      <th>3060</th>\n",
              "      <th>3061</th>\n",
              "      <th>3062</th>\n",
              "      <th>3063</th>\n",
              "      <th>3064</th>\n",
              "      <th>3065</th>\n",
              "      <th>3066</th>\n",
              "      <th>3067</th>\n",
              "      <th>3068</th>\n",
              "      <th>3069</th>\n",
              "      <th>3070</th>\n",
              "      <th>3071</th>\n",
              "      <th>labels</th>\n",
              "    </tr>\n",
              "  </thead>\n",
              "  <tbody>\n",
              "    <tr>\n",
              "      <th>2980</th>\n",
              "      <td>130</td>\n",
              "      <td>129</td>\n",
              "      <td>122</td>\n",
              "      <td>112</td>\n",
              "      <td>105</td>\n",
              "      <td>105</td>\n",
              "      <td>78</td>\n",
              "      <td>46</td>\n",
              "      <td>40</td>\n",
              "      <td>37</td>\n",
              "      <td>31</td>\n",
              "      <td>28</td>\n",
              "      <td>20</td>\n",
              "      <td>24</td>\n",
              "      <td>104</td>\n",
              "      <td>55</td>\n",
              "      <td>13</td>\n",
              "      <td>26</td>\n",
              "      <td>30</td>\n",
              "      <td>29</td>\n",
              "      <td>23</td>\n",
              "      <td>21</td>\n",
              "      <td>16</td>\n",
              "      <td>16</td>\n",
              "      <td>15</td>\n",
              "      <td>14</td>\n",
              "      <td>13</td>\n",
              "      <td>21</td>\n",
              "      <td>42</td>\n",
              "      <td>59</td>\n",
              "      <td>68</td>\n",
              "      <td>111</td>\n",
              "      <td>194</td>\n",
              "      <td>191</td>\n",
              "      <td>191</td>\n",
              "      <td>187</td>\n",
              "      <td>178</td>\n",
              "      <td>170</td>\n",
              "      <td>166</td>\n",
              "      <td>159</td>\n",
              "      <td>...</td>\n",
              "      <td>75</td>\n",
              "      <td>68</td>\n",
              "      <td>85</td>\n",
              "      <td>88</td>\n",
              "      <td>87</td>\n",
              "      <td>96</td>\n",
              "      <td>95</td>\n",
              "      <td>73</td>\n",
              "      <td>70</td>\n",
              "      <td>71</td>\n",
              "      <td>78</td>\n",
              "      <td>73</td>\n",
              "      <td>89</td>\n",
              "      <td>98</td>\n",
              "      <td>87</td>\n",
              "      <td>110</td>\n",
              "      <td>109</td>\n",
              "      <td>95</td>\n",
              "      <td>105</td>\n",
              "      <td>110</td>\n",
              "      <td>91</td>\n",
              "      <td>95</td>\n",
              "      <td>118</td>\n",
              "      <td>131</td>\n",
              "      <td>135</td>\n",
              "      <td>153</td>\n",
              "      <td>143</td>\n",
              "      <td>132</td>\n",
              "      <td>130</td>\n",
              "      <td>117</td>\n",
              "      <td>110</td>\n",
              "      <td>122</td>\n",
              "      <td>95</td>\n",
              "      <td>94</td>\n",
              "      <td>91</td>\n",
              "      <td>81</td>\n",
              "      <td>91</td>\n",
              "      <td>92</td>\n",
              "      <td>98</td>\n",
              "      <td>7</td>\n",
              "    </tr>\n",
              "    <tr>\n",
              "      <th>6486</th>\n",
              "      <td>149</td>\n",
              "      <td>143</td>\n",
              "      <td>139</td>\n",
              "      <td>136</td>\n",
              "      <td>134</td>\n",
              "      <td>132</td>\n",
              "      <td>129</td>\n",
              "      <td>125</td>\n",
              "      <td>123</td>\n",
              "      <td>125</td>\n",
              "      <td>127</td>\n",
              "      <td>131</td>\n",
              "      <td>136</td>\n",
              "      <td>141</td>\n",
              "      <td>144</td>\n",
              "      <td>143</td>\n",
              "      <td>142</td>\n",
              "      <td>142</td>\n",
              "      <td>141</td>\n",
              "      <td>140</td>\n",
              "      <td>139</td>\n",
              "      <td>119</td>\n",
              "      <td>95</td>\n",
              "      <td>108</td>\n",
              "      <td>128</td>\n",
              "      <td>124</td>\n",
              "      <td>119</td>\n",
              "      <td>117</td>\n",
              "      <td>113</td>\n",
              "      <td>109</td>\n",
              "      <td>104</td>\n",
              "      <td>100</td>\n",
              "      <td>144</td>\n",
              "      <td>138</td>\n",
              "      <td>134</td>\n",
              "      <td>132</td>\n",
              "      <td>129</td>\n",
              "      <td>126</td>\n",
              "      <td>122</td>\n",
              "      <td>120</td>\n",
              "      <td>...</td>\n",
              "      <td>123</td>\n",
              "      <td>151</td>\n",
              "      <td>119</td>\n",
              "      <td>128</td>\n",
              "      <td>129</td>\n",
              "      <td>145</td>\n",
              "      <td>150</td>\n",
              "      <td>106</td>\n",
              "      <td>102</td>\n",
              "      <td>104</td>\n",
              "      <td>88</td>\n",
              "      <td>48</td>\n",
              "      <td>67</td>\n",
              "      <td>107</td>\n",
              "      <td>95</td>\n",
              "      <td>70</td>\n",
              "      <td>57</td>\n",
              "      <td>82</td>\n",
              "      <td>88</td>\n",
              "      <td>54</td>\n",
              "      <td>88</td>\n",
              "      <td>132</td>\n",
              "      <td>105</td>\n",
              "      <td>94</td>\n",
              "      <td>91</td>\n",
              "      <td>95</td>\n",
              "      <td>120</td>\n",
              "      <td>95</td>\n",
              "      <td>113</td>\n",
              "      <td>145</td>\n",
              "      <td>152</td>\n",
              "      <td>121</td>\n",
              "      <td>148</td>\n",
              "      <td>137</td>\n",
              "      <td>132</td>\n",
              "      <td>154</td>\n",
              "      <td>129</td>\n",
              "      <td>121</td>\n",
              "      <td>154</td>\n",
              "      <td>6</td>\n",
              "    </tr>\n",
              "    <tr>\n",
              "      <th>846</th>\n",
              "      <td>253</td>\n",
              "      <td>248</td>\n",
              "      <td>250</td>\n",
              "      <td>250</td>\n",
              "      <td>247</td>\n",
              "      <td>243</td>\n",
              "      <td>240</td>\n",
              "      <td>234</td>\n",
              "      <td>225</td>\n",
              "      <td>214</td>\n",
              "      <td>190</td>\n",
              "      <td>189</td>\n",
              "      <td>209</td>\n",
              "      <td>222</td>\n",
              "      <td>230</td>\n",
              "      <td>238</td>\n",
              "      <td>244</td>\n",
              "      <td>248</td>\n",
              "      <td>250</td>\n",
              "      <td>249</td>\n",
              "      <td>247</td>\n",
              "      <td>247</td>\n",
              "      <td>250</td>\n",
              "      <td>249</td>\n",
              "      <td>248</td>\n",
              "      <td>245</td>\n",
              "      <td>243</td>\n",
              "      <td>243</td>\n",
              "      <td>242</td>\n",
              "      <td>240</td>\n",
              "      <td>239</td>\n",
              "      <td>240</td>\n",
              "      <td>233</td>\n",
              "      <td>234</td>\n",
              "      <td>240</td>\n",
              "      <td>239</td>\n",
              "      <td>225</td>\n",
              "      <td>213</td>\n",
              "      <td>206</td>\n",
              "      <td>196</td>\n",
              "      <td>...</td>\n",
              "      <td>52</td>\n",
              "      <td>49</td>\n",
              "      <td>48</td>\n",
              "      <td>49</td>\n",
              "      <td>51</td>\n",
              "      <td>75</td>\n",
              "      <td>107</td>\n",
              "      <td>78</td>\n",
              "      <td>80</td>\n",
              "      <td>87</td>\n",
              "      <td>93</td>\n",
              "      <td>94</td>\n",
              "      <td>99</td>\n",
              "      <td>101</td>\n",
              "      <td>102</td>\n",
              "      <td>100</td>\n",
              "      <td>98</td>\n",
              "      <td>88</td>\n",
              "      <td>75</td>\n",
              "      <td>70</td>\n",
              "      <td>67</td>\n",
              "      <td>58</td>\n",
              "      <td>56</td>\n",
              "      <td>56</td>\n",
              "      <td>68</td>\n",
              "      <td>78</td>\n",
              "      <td>78</td>\n",
              "      <td>79</td>\n",
              "      <td>77</td>\n",
              "      <td>75</td>\n",
              "      <td>67</td>\n",
              "      <td>67</td>\n",
              "      <td>63</td>\n",
              "      <td>62</td>\n",
              "      <td>61</td>\n",
              "      <td>55</td>\n",
              "      <td>53</td>\n",
              "      <td>71</td>\n",
              "      <td>103</td>\n",
              "      <td>8</td>\n",
              "    </tr>\n",
              "    <tr>\n",
              "      <th>8456</th>\n",
              "      <td>229</td>\n",
              "      <td>213</td>\n",
              "      <td>197</td>\n",
              "      <td>206</td>\n",
              "      <td>228</td>\n",
              "      <td>231</td>\n",
              "      <td>214</td>\n",
              "      <td>211</td>\n",
              "      <td>230</td>\n",
              "      <td>240</td>\n",
              "      <td>223</td>\n",
              "      <td>210</td>\n",
              "      <td>220</td>\n",
              "      <td>232</td>\n",
              "      <td>221</td>\n",
              "      <td>208</td>\n",
              "      <td>216</td>\n",
              "      <td>234</td>\n",
              "      <td>226</td>\n",
              "      <td>207</td>\n",
              "      <td>217</td>\n",
              "      <td>239</td>\n",
              "      <td>237</td>\n",
              "      <td>229</td>\n",
              "      <td>244</td>\n",
              "      <td>251</td>\n",
              "      <td>242</td>\n",
              "      <td>235</td>\n",
              "      <td>239</td>\n",
              "      <td>246</td>\n",
              "      <td>243</td>\n",
              "      <td>235</td>\n",
              "      <td>214</td>\n",
              "      <td>205</td>\n",
              "      <td>201</td>\n",
              "      <td>208</td>\n",
              "      <td>221</td>\n",
              "      <td>224</td>\n",
              "      <td>216</td>\n",
              "      <td>214</td>\n",
              "      <td>...</td>\n",
              "      <td>193</td>\n",
              "      <td>197</td>\n",
              "      <td>217</td>\n",
              "      <td>211</td>\n",
              "      <td>194</td>\n",
              "      <td>179</td>\n",
              "      <td>163</td>\n",
              "      <td>160</td>\n",
              "      <td>163</td>\n",
              "      <td>174</td>\n",
              "      <td>181</td>\n",
              "      <td>194</td>\n",
              "      <td>204</td>\n",
              "      <td>207</td>\n",
              "      <td>213</td>\n",
              "      <td>216</td>\n",
              "      <td>218</td>\n",
              "      <td>222</td>\n",
              "      <td>227</td>\n",
              "      <td>228</td>\n",
              "      <td>226</td>\n",
              "      <td>230</td>\n",
              "      <td>233</td>\n",
              "      <td>233</td>\n",
              "      <td>230</td>\n",
              "      <td>228</td>\n",
              "      <td>225</td>\n",
              "      <td>219</td>\n",
              "      <td>214</td>\n",
              "      <td>210</td>\n",
              "      <td>205</td>\n",
              "      <td>198</td>\n",
              "      <td>189</td>\n",
              "      <td>173</td>\n",
              "      <td>161</td>\n",
              "      <td>151</td>\n",
              "      <td>138</td>\n",
              "      <td>127</td>\n",
              "      <td>109</td>\n",
              "      <td>1</td>\n",
              "    </tr>\n",
              "    <tr>\n",
              "      <th>2306</th>\n",
              "      <td>4</td>\n",
              "      <td>5</td>\n",
              "      <td>6</td>\n",
              "      <td>5</td>\n",
              "      <td>4</td>\n",
              "      <td>4</td>\n",
              "      <td>4</td>\n",
              "      <td>4</td>\n",
              "      <td>4</td>\n",
              "      <td>4</td>\n",
              "      <td>5</td>\n",
              "      <td>5</td>\n",
              "      <td>4</td>\n",
              "      <td>4</td>\n",
              "      <td>4</td>\n",
              "      <td>4</td>\n",
              "      <td>3</td>\n",
              "      <td>3</td>\n",
              "      <td>3</td>\n",
              "      <td>3</td>\n",
              "      <td>4</td>\n",
              "      <td>2</td>\n",
              "      <td>1</td>\n",
              "      <td>10</td>\n",
              "      <td>60</td>\n",
              "      <td>23</td>\n",
              "      <td>0</td>\n",
              "      <td>3</td>\n",
              "      <td>5</td>\n",
              "      <td>2</td>\n",
              "      <td>2</td>\n",
              "      <td>2</td>\n",
              "      <td>4</td>\n",
              "      <td>4</td>\n",
              "      <td>5</td>\n",
              "      <td>4</td>\n",
              "      <td>4</td>\n",
              "      <td>4</td>\n",
              "      <td>4</td>\n",
              "      <td>4</td>\n",
              "      <td>...</td>\n",
              "      <td>0</td>\n",
              "      <td>2</td>\n",
              "      <td>2</td>\n",
              "      <td>2</td>\n",
              "      <td>1</td>\n",
              "      <td>1</td>\n",
              "      <td>0</td>\n",
              "      <td>3</td>\n",
              "      <td>2</td>\n",
              "      <td>2</td>\n",
              "      <td>2</td>\n",
              "      <td>4</td>\n",
              "      <td>30</td>\n",
              "      <td>32</td>\n",
              "      <td>53</td>\n",
              "      <td>57</td>\n",
              "      <td>50</td>\n",
              "      <td>40</td>\n",
              "      <td>24</td>\n",
              "      <td>23</td>\n",
              "      <td>35</td>\n",
              "      <td>34</td>\n",
              "      <td>33</td>\n",
              "      <td>32</td>\n",
              "      <td>35</td>\n",
              "      <td>40</td>\n",
              "      <td>43</td>\n",
              "      <td>32</td>\n",
              "      <td>32</td>\n",
              "      <td>36</td>\n",
              "      <td>51</td>\n",
              "      <td>17</td>\n",
              "      <td>0</td>\n",
              "      <td>2</td>\n",
              "      <td>1</td>\n",
              "      <td>1</td>\n",
              "      <td>1</td>\n",
              "      <td>1</td>\n",
              "      <td>1</td>\n",
              "      <td>8</td>\n",
              "    </tr>\n",
              "  </tbody>\n",
              "</table>\n",
              "<p>5 rows × 3073 columns</p>\n",
              "</div>"
            ],
            "text/plain": [
              "        0    1    2    3    4    5  ...  3067  3068  3069  3070  3071  labels\n",
              "2980  130  129  122  112  105  105  ...    91    81    91    92    98       7\n",
              "6486  149  143  139  136  134  132  ...   132   154   129   121   154       6\n",
              "846   253  248  250  250  247  243  ...    61    55    53    71   103       8\n",
              "8456  229  213  197  206  228  231  ...   161   151   138   127   109       1\n",
              "2306    4    5    6    5    4    4  ...     1     1     1     1     1       8\n",
              "\n",
              "[5 rows x 3073 columns]"
            ]
          },
          "metadata": {
            "tags": []
          },
          "execution_count": 96
        }
      ]
    },
    {
      "cell_type": "code",
      "metadata": {
        "colab": {
          "base_uri": "https://localhost:8080/"
        },
        "id": "kFu0BX2vKFA6",
        "outputId": "c01d2a3b-c2a2-4375-892b-808e0ef64339"
      },
      "source": [
        "tr_x = np.asarray(pd_tr.iloc[:, :3072]).astype(np.float64)\n",
        "ts_x = np.asarray(unpickle('/content/cifar-10-batches-py/test_batch')[b'data']).astype(np.float64)\n",
        "ytr = np.asarray(pd_tr['labels'])\n",
        "yts = np.asarray(unpickle('/content/cifar-10-batches-py/test_batch')[b'labels'])\n",
        "tr_x.shape"
      ],
      "execution_count": 97,
      "outputs": [
        {
          "output_type": "execute_result",
          "data": {
            "text/plain": [
              "(50000, 3072)"
            ]
          },
          "metadata": {
            "tags": []
          },
          "execution_count": 97
        }
      ]
    },
    {
      "cell_type": "markdown",
      "metadata": {
        "id": "O53DP5XWKFA7"
      },
      "source": [
        "The above number can be calculated as 32(breadth) x 32(width) x 3(color channels) x 10000 (images per batch) x 5 (number of training batches)"
      ]
    },
    {
      "cell_type": "markdown",
      "metadata": {
        "id": "eDKsTuyVKFA7"
      },
      "source": [
        "### Exploring the dataset"
      ]
    },
    {
      "cell_type": "markdown",
      "metadata": {
        "id": "WeC1w3cEKFA7"
      },
      "source": [
        "Taking the label names from batches.meta and checking the categories of the images in the dataset."
      ]
    },
    {
      "cell_type": "code",
      "metadata": {
        "colab": {
          "base_uri": "https://localhost:8080/"
        },
        "id": "3-w4Jc_MKFA8",
        "outputId": "869f7d1c-42a4-46aa-8234-d68d36473a7e"
      },
      "source": [
        "labels = unpickle('/content/cifar-10-batches-py/batches.meta')[b'label_names']\n",
        "labels"
      ],
      "execution_count": 98,
      "outputs": [
        {
          "output_type": "execute_result",
          "data": {
            "text/plain": [
              "[b'airplane',\n",
              " b'automobile',\n",
              " b'bird',\n",
              " b'cat',\n",
              " b'deer',\n",
              " b'dog',\n",
              " b'frog',\n",
              " b'horse',\n",
              " b'ship',\n",
              " b'truck']"
            ]
          },
          "metadata": {
            "tags": []
          },
          "execution_count": 98
        }
      ]
    },
    {
      "cell_type": "code",
      "metadata": {
        "colab": {
          "base_uri": "https://localhost:8080/"
        },
        "id": "f1M2pkKg87V4",
        "outputId": "f89fa90a-09b9-4ea5-dd7d-ff1970784faa"
      },
      "source": [
        "print(tr_x[120])"
      ],
      "execution_count": 99,
      "outputs": [
        {
          "output_type": "stream",
          "text": [
            "[110. 112. 132. ... 140. 134. 129.]\n"
          ],
          "name": "stdout"
        }
      ]
    },
    {
      "cell_type": "markdown",
      "metadata": {
        "id": "qpId3dH--ZAg"
      },
      "source": [
        "In the next step the plt function from Matlab is used:"
      ]
    },
    {
      "cell_type": "code",
      "metadata": {
        "colab": {
          "base_uri": "https://localhost:8080/",
          "height": 283
        },
        "id": "59bAUhIyKFA-",
        "outputId": "db59d96a-0b78-49ec-8e83-e744e9175098"
      },
      "source": [
        "plt.imshow((tr_x[113]/255).reshape(32,32,3))"
      ],
      "execution_count": 100,
      "outputs": [
        {
          "output_type": "execute_result",
          "data": {
            "text/plain": [
              "<matplotlib.image.AxesImage at 0x7f3daf9ad0b8>"
            ]
          },
          "metadata": {
            "tags": []
          },
          "execution_count": 100
        },
        {
          "output_type": "display_data",
          "data": {
            "image/png": "[encoded data removed]",
            "text/plain": [
              "<Figure size 432x288 with 1 Axes>"
            ]
          },
          "metadata": {
            "tags": [],
            "needs_background": "light"
          }
        }
      ]
    },
    {
      "cell_type": "markdown",
      "metadata": {
        "id": "fkkeUt0hKFA_"
      },
      "source": [
        "If you look carefully, you can maybe recognize a shape, maybe an animal, and it is repeated around 9 times. This is because the reshaping was not done depth-wise. So we need to stack the array by separating the red, green and blue arrays and stacking them depth-wise. The below function takes a flattened array from the dataset and plots the RGB image."
      ]
    },
    {
      "cell_type": "code",
      "metadata": {
        "id": "aZxiJIN_KFA_"
      },
      "source": [
        "def plot_CIFAR(ind):\n",
        "    arr = tr_x[ind]\n",
        "    R = arr[0:1024].reshape(32,32)/255.0\n",
        "    G = arr[1024:2048].reshape(32,32)/255.0\n",
        "    B = arr[2048:].reshape(32,32)/255.0\n",
        "    \n",
        "    img = np.dstack((R,G,B))\n",
        "    title = re.sub('[!@#$b]', '', str(labels[ytr[ind]]))\n",
        "    fig = plt.figure(figsize=(3,3))\n",
        "    ax = fig.add_subplot(111)\n",
        "    ax.imshow(img,interpolation='bicubic')\n",
        "    ax.set_title('Category = '+ title,fontsize =15)"
      ],
      "execution_count": 101,
      "outputs": []
    },
    {
      "cell_type": "code",
      "metadata": {
        "scrolled": true,
        "colab": {
          "base_uri": "https://localhost:8080/",
          "height": 229
        },
        "id": "sAWrXvbpKFBA",
        "outputId": "ecb29534-3210-41d5-e3d5-d7f8471c0f25"
      },
      "source": [
        "plot_CIFAR(113)"
      ],
      "execution_count": 102,
      "outputs": [
        {
          "output_type": "display_data",
          "data": {
            "image/png": "[encoded data removed]",
            "text/plain": [
              "<Figure size 216x216 with 1 Axes>"
            ]
          },
          "metadata": {
            "tags": [],
            "needs_background": "light"
          }
        }
      ]
    },
    {
      "cell_type": "markdown",
      "metadata": {
        "id": "H09SWU1wKFBA"
      },
      "source": [
        "This is the most sharpened the CIFAR-10 images get. This is because the original image is 32px X 32px, which is a lot smaller than the above image. "
      ]
    },
    {
      "cell_type": "markdown",
      "metadata": {
        "id": "G2kuSCIMKFBA"
      },
      "source": [
        "### Normalizing "
      ]
    },
    {
      "cell_type": "markdown",
      "metadata": {
        "id": "vhwtZCBjKFBA"
      },
      "source": [
        "Normalizing features (image pixels here) is an important pre-processing step in the learning process as it standardizes the features, implicitly letting the weights be considered equally."
      ]
    },
    {
      "cell_type": "code",
      "metadata": {
        "colab": {
          "base_uri": "https://localhost:8080/",
          "height": 229
        },
        "id": "H9l7TZlaKFBA",
        "outputId": "7bec20da-d084-4c86-c856-235f53590e19"
      },
      "source": [
        "mean_tr = tr_x.mean(axis=0)\n",
        "mean_ts = tr_x.mean(axis=0)\n",
        "std_tr  = tr_x.std(axis=0)\n",
        "std_ts  = ts_x.std(axis=0)\n",
        "\n",
        "xtr = (tr_x-mean_tr.T)/(std_tr.T)\n",
        "xts = (ts_x-mean_ts.T)/(std_ts.T)\n",
        "\n",
        "plot_CIFAR(113)"
      ],
      "execution_count": 103,
      "outputs": [
        {
          "output_type": "display_data",
          "data": {
            "image/png": "[encoded data removed]",
            "text/plain": [
              "<Figure size 216x216 with 1 Axes>"
            ]
          },
          "metadata": {
            "tags": [],
            "needs_background": "light"
          }
        }
      ]
    },
    {
      "cell_type": "markdown",
      "metadata": {
        "id": "4MMZ4LUWEGbA"
      },
      "source": [
        "The original pnn.ipynb was now looking more closely into the training procedure, but as it we just wanted in this file to access the actual imaging data, and 2. we could not make it run in Google Colab, we end this Jupyter Notebook here. Visit https://github.com/pranka02/nn_CIFAR10.git for the original pnn.ipynb file."
      ]
    },
    {
      "cell_type": "markdown",
      "metadata": {
        "id": "OXYBq9XmTl0W"
      },
      "source": [
        "##Let's take a look at the dataset with the Cifar10.load_data() function:"
      ]
    },
    {
      "cell_type": "code",
      "metadata": {
        "id": "1WSNH9p4KFBE",
        "colab": {
          "base_uri": "https://localhost:8080/"
        },
        "outputId": "88c942a2-c69a-4985-e983-c362a7bf261c"
      },
      "source": [
        "\n",
        "#The data, split between train and test sets:\n",
        "(x_train, y_train), (x_test, y_test) = cifar10.load_data()\n",
        "print('x_train shape:', x_train.shape)\n",
        "print(x_train.shape[0], 'train samples')\n",
        "print(x_test.shape[0], 'test samples')\n",
        "\n",
        "trainimages=(x_train)\n",
        "testimages=(x_test)\n",
        "traincategorylabels=(y_train)\n",
        "testcategorylabels=(y_test)\n",
        "\n",
        "print(keras.backend.image_data_format())\n"
      ],
      "execution_count": 80,
      "outputs": [
        {
          "output_type": "stream",
          "text": [
            "x_train shape: (50000, 32, 32, 3)\n",
            "50000 train samples\n",
            "10000 test samples\n",
            "channels_last\n"
          ],
          "name": "stdout"
        }
      ]
    },
    {
      "cell_type": "markdown",
      "metadata": {
        "id": "erXVlOk2V_jS"
      },
      "source": [
        "\n",
        "\n",
        "Lets take a closer look at the actual image data (train and test) without the labels. It becomes clear that these are numpy.ndarrays datatypes."
      ]
    },
    {
      "cell_type": "code",
      "metadata": {
        "colab": {
          "base_uri": "https://localhost:8080/"
        },
        "id": "HwYf7TGAVK2d",
        "outputId": "ee101cac-ba39-4beb-c7df-b3b2f9412d0e"
      },
      "source": [
        "(x_train, x_test) = cifar10.load_data()\n",
        "\n",
        "allpictures =(x_train, x_test)\n",
        "\n",
        "print(type(trainimages))\n",
        "print(len(trainimages))\n",
        "print(type(testimages))\n",
        "print(len(testimages))\n",
        "oneimage = testimages[1]\n",
        "print(type(oneimage))\n",
        "print(len(oneimage))\n",
        "print(type(oneimage[1]))\n"
      ],
      "execution_count": 81,
      "outputs": [
        {
          "output_type": "stream",
          "text": [
            "<class 'numpy.ndarray'>\n",
            "50000\n",
            "<class 'numpy.ndarray'>\n",
            "10000\n",
            "<class 'numpy.ndarray'>\n",
            "32\n",
            "<class 'numpy.ndarray'>\n"
          ],
          "name": "stdout"
        }
      ]
    },
    {
      "cell_type": "markdown",
      "metadata": {
        "id": "DHPU_4gx_aGH"
      },
      "source": [
        "Let's take a look the label data:"
      ]
    },
    {
      "cell_type": "code",
      "metadata": {
        "colab": {
          "base_uri": "https://localhost:8080/"
        },
        "id": "Ip--10GN_giK",
        "outputId": "f29fdbc2-70ea-4282-cdf5-af3561d0d4c9"
      },
      "source": [
        "print(type(traincategorylabels))\n",
        "print(len(traincategorylabels))\n",
        "print(type(traincategorylabels[1]))\n",
        "print(len(traincategorylabels[1]))\n",
        "print(traincategorylabels[1])\n",
        "print(traincategorylabels[2])\n",
        "print(traincategorylabels[3])"
      ],
      "execution_count": 82,
      "outputs": [
        {
          "output_type": "stream",
          "text": [
            "<class 'numpy.ndarray'>\n",
            "50000\n",
            "<class 'numpy.ndarray'>\n",
            "1\n",
            "[9]\n",
            "[9]\n",
            "[4]\n"
          ],
          "name": "stdout"
        }
      ]
    },
    {
      "cell_type": "markdown",
      "metadata": {
        "id": "IfGC3f7K_2nj"
      },
      "source": [
        "Let's print all the labels of the training data:"
      ]
    },
    {
      "cell_type": "code",
      "metadata": {
        "colab": {
          "base_uri": "https://localhost:8080/"
        },
        "id": "z2flKcdAABBN",
        "outputId": "4c2ed755-3adb-4750-82a0-045ffb06fff8"
      },
      "source": [
        "print(traincategorylabels)"
      ],
      "execution_count": 83,
      "outputs": [
        {
          "output_type": "stream",
          "text": [
            "[[6]\n",
            " [9]\n",
            " [9]\n",
            " ...\n",
            " [9]\n",
            " [1]\n",
            " [1]]\n"
          ],
          "name": "stdout"
        }
      ]
    },
    {
      "cell_type": "markdown",
      "metadata": {
        "id": "B7ZdCnF3G98z"
      },
      "source": [
        "Let's create a histogramm, to quickly check if we have an even distributed amount of each label types:"
      ]
    },
    {
      "cell_type": "code",
      "metadata": {
        "colab": {
          "base_uri": "https://localhost:8080/"
        },
        "id": "aaSmVEyO_7AE",
        "outputId": "dff29b6a-f274-424d-aaeb-0f99f8c398fb"
      },
      "source": [
        "print(len(traincategorylabels))\n",
        "print(np.histogram(np.transpose(traincategorylabels), bins = [0,1,2,3,4,5,6,7,8,9,10]))\n",
        "print(len(testcategorylabels))\n",
        "print(np.histogram(np.transpose(testcategorylabels), bins = [0,1,2,3,4,5,6,7,8,9,10]))"
      ],
      "execution_count": 84,
      "outputs": [
        {
          "output_type": "stream",
          "text": [
            "50000\n",
            "(array([5000, 5000, 5000, 5000, 5000, 5000, 5000, 5000, 5000, 5000]), array([ 0,  1,  2,  3,  4,  5,  6,  7,  8,  9, 10]))\n",
            "10000\n",
            "(array([1000, 1000, 1000, 1000, 1000, 1000, 1000, 1000, 1000, 1000]), array([ 0,  1,  2,  3,  4,  5,  6,  7,  8,  9, 10]))\n"
          ],
          "name": "stdout"
        }
      ]
    },
    {
      "cell_type": "markdown",
      "metadata": {
        "id": "MPLL4rHaG9Mc"
      },
      "source": [
        "It is already visible that for every category we have exactly 5000 examples in the training dataset and 1000 in the test dataset, but lets create a matplot to make it also visually visible. "
      ]
    },
    {
      "cell_type": "code",
      "metadata": {
        "colab": {
          "base_uri": "https://localhost:8080/",
          "height": 579
        },
        "id": "dU1NYmTeKi0b",
        "outputId": "6b8309c5-8959-48d6-d826-42ef5c4bd7ff"
      },
      "source": [
        "print(\"Total amount of data labels (training dataset): \", len(traincategorylabels))\n",
        "plt.hist(traincategorylabels, bins = [0,1,2,3,4,5,6,7,8,9,10])\n",
        "plt.title(\"Distribution among category labels in the training dataset\")\n",
        "plt.show()\n",
        "print(\"Total amount of data labels (test dataset): \", len(testcategorylabels))\n",
        "plt.hist(testcategorylabels, bins = [0,1,2,3,4,5,6,7,8,9,10])\n",
        "plt.title(\"Distribution among category labels in the test dataset\")\n",
        "plt.show()"
      ],
      "execution_count": 90,
      "outputs": [
        {
          "output_type": "stream",
          "text": [
            "Total amount of data labels (training dataset):  50000\n"
          ],
          "name": "stdout"
        },
        {
          "output_type": "display_data",
          "data": {
            "image/png": "[encoded data removed]",
            "text/plain": [
              "<Figure size 432x288 with 1 Axes>"
            ]
          },
          "metadata": {
            "tags": [],
            "needs_background": "light"
          }
        },
        {
          "output_type": "stream",
          "text": [
            "Total amount of data labels (test dataset):  10000\n"
          ],
          "name": "stdout"
        },
        {
          "output_type": "display_data",
          "data": {
            "image/png": "[encoded data removed]",
            "text/plain": [
              "<Figure size 432x288 with 1 Axes>"
            ]
          },
          "metadata": {
            "tags": [],
            "needs_background": "light"
          }
        }
      ]
    },
    {
      "cell_type": "markdown",
      "metadata": {
        "id": "4o85SobNVUqh"
      },
      "source": [
        "##Analyzing our picture data:\n",
        "\n",
        "The image is stored in \n",
        "row-major order, so that the first 32 entries of the array are the red channel \n",
        "values of the first row of the image.\n",
        "Source: https://www.cs.toronto.edu/~kriz/cifar.html\n",
        "\n"
      ]
    },
    {
      "cell_type": "code",
      "metadata": {
        "id": "oD1hRX9mVTfU",
        "colab": {
          "base_uri": "https://localhost:8080/"
        },
        "outputId": "2ea5490a-010a-4685-8d52-6847e981401d"
      },
      "source": [
        "print(\"Analyzing our picture data\")\n",
        "\n",
        "print(type(oneimage))\n",
        "print(len(oneimage))\n",
        "\n",
        "print((oneimage))\n"
      ],
      "execution_count": 87,
      "outputs": [
        {
          "output_type": "stream",
          "text": [
            "Analyzing our picture data\n",
            "<class 'numpy.ndarray'>\n",
            "32\n",
            "[[[235 235 235]\n",
            "  [231 231 231]\n",
            "  [232 232 232]\n",
            "  ...\n",
            "  [233 233 233]\n",
            "  [233 233 233]\n",
            "  [232 232 232]]\n",
            "\n",
            " [[238 238 238]\n",
            "  [235 235 235]\n",
            "  [235 235 235]\n",
            "  ...\n",
            "  [236 236 236]\n",
            "  [236 236 236]\n",
            "  [235 235 235]]\n",
            "\n",
            " [[237 237 237]\n",
            "  [234 234 234]\n",
            "  [234 234 234]\n",
            "  ...\n",
            "  [235 235 235]\n",
            "  [235 235 235]\n",
            "  [234 234 234]]\n",
            "\n",
            " ...\n",
            "\n",
            " [[ 87  99  89]\n",
            "  [ 43  51  37]\n",
            "  [ 19  23  11]\n",
            "  ...\n",
            "  [169 184 179]\n",
            "  [182 197 193]\n",
            "  [188 202 201]]\n",
            "\n",
            " [[ 82  96  82]\n",
            "  [ 46  57  36]\n",
            "  [ 36  44  22]\n",
            "  ...\n",
            "  [174 189 183]\n",
            "  [185 200 196]\n",
            "  [187 202 200]]\n",
            "\n",
            " [[ 85 101  83]\n",
            "  [ 62  75  48]\n",
            "  [ 58  67  38]\n",
            "  ...\n",
            "  [168 183 178]\n",
            "  [180 195 191]\n",
            "  [186 200 199]]]\n"
          ],
          "name": "stdout"
        }
      ]
    },
    {
      "cell_type": "markdown",
      "metadata": {
        "id": "BSGYd63FVc4R"
      },
      "source": [
        "first 32 entries of the array are the red channel values of the first row of \n",
        "the image.\n",
        "print(\"first 32 entries of the array are the red channel values of the first row of the image.\")\n"
      ]
    },
    {
      "cell_type": "code",
      "metadata": {
        "colab": {
          "base_uri": "https://localhost:8080/"
        },
        "id": "YfwicTrWVj5n",
        "outputId": "5472dfe9-157a-4ab5-c9de-4efd337adc21"
      },
      "source": [
        "print(oneimage[0])\n",
        "firstrowimage=oneimage[0]\n",
        "print(len(firstrowimage))\n",
        "print(firstrowimage[0])\n",
        "print(firstrowimage[0]/255)"
      ],
      "execution_count": 89,
      "outputs": [
        {
          "output_type": "stream",
          "text": [
            "[[235 235 235]\n",
            " [231 231 231]\n",
            " [232 232 232]\n",
            " [232 232 232]\n",
            " [232 232 232]\n",
            " [232 232 232]\n",
            " [232 232 232]\n",
            " [232 232 232]\n",
            " [232 232 232]\n",
            " [232 232 232]\n",
            " [233 233 233]\n",
            " [233 233 233]\n",
            " [233 233 233]\n",
            " [233 233 233]\n",
            " [233 233 233]\n",
            " [233 232 233]\n",
            " [233 231 233]\n",
            " [232 231 233]\n",
            " [231 233 233]\n",
            " [230 233 232]\n",
            " [232 232 234]\n",
            " [232 231 234]\n",
            " [232 232 232]\n",
            " [233 233 230]\n",
            " [232 233 231]\n",
            " [233 233 233]\n",
            " [232 232 232]\n",
            " [232 232 232]\n",
            " [232 232 232]\n",
            " [233 233 233]\n",
            " [233 233 233]\n",
            " [232 232 232]]\n",
            "32\n",
            "[235 235 235]\n",
            "[0.92156863 0.92156863 0.92156863]\n"
          ],
          "name": "stdout"
        }
      ]
    },
    {
      "cell_type": "markdown",
      "metadata": {
        "id": "_NS0ALSaVT0d"
      },
      "source": [
        "As it just the first row (red channel) it is not possible to create a picture of this."
      ]
    }
  ]
}