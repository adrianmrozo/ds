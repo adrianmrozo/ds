{
  "nbformat": 4,
  "nbformat_minor": 0,
  "metadata": {
    "kernelspec": {
      "display_name": "Python 3",
      "language": "python",
      "name": "python3"
    },
    "language_info": {
      "codemirror_mode": {
        "name": "ipython",
        "version": 3
      },
      "file_extension": ".py",
      "mimetype": "text/x-python",
      "name": "python",
      "nbconvert_exporter": "python",
      "pygments_lexer": "ipython3",
      "version": "3.5.2"
    },
    "colab": {
      "name": "milestone5task2.ipynb",
      "provenance": [],
      "collapsed_sections": []
    }
  },
  "cells": [
    {
      "cell_type": "markdown",
      "metadata": {
        "id": "3CCAWxVBIO-i"
      },
      "source": [
        "#Enter a number, for which the sample image will be taken."
      ]
    },
    {
      "cell_type": "code",
      "metadata": {
        "colab": {
          "base_uri": "https://localhost:8080/"
        },
        "id": "XC8DWpSzIV-D",
        "outputId": "881bbc6e-f647-477f-89d9-b6b100b82e12"
      },
      "source": [
        "userimagenumber = int(input())"
      ],
      "execution_count": null,
      "outputs": [
        {
          "output_type": "stream",
          "text": [
            "40\n"
          ],
          "name": "stdout"
        }
      ]
    },
    {
      "cell_type": "markdown",
      "metadata": {
        "id": "_Prz825iaJzy"
      },
      "source": [
        "#Show the image from the test data set:"
      ]
    },
    {
      "cell_type": "code",
      "metadata": {
        "id": "lUEG0AglYD_c"
      },
      "source": [
        "from __future__ import print_function\n",
        "\n",
        "import numpy as np\n",
        "import pandas as pd \n",
        "import pickle\n",
        "import os\n",
        "import sklearn\n",
        "import re\n",
        "from scipy import ndimage, misc\n",
        "import cv2\n",
        "import pickle\n",
        "import tensorflow as tf\n",
        "from sklearn.utils import shuffle\n",
        "import matplotlib.pyplot as plt\n",
        "from sklearn.preprocessing import LabelBinarizer\n",
        "%matplotlib inline\n",
        "\n",
        "import keras\n",
        "from keras.datasets import cifar10\n",
        "from keras.preprocessing.image import ImageDataGenerator\n",
        "from keras.models import Sequential\n",
        "from keras.layers import Dense, Dropout, Activation, Flatten\n",
        "from keras.layers import Conv2D, MaxPooling2D\n",
        "import os\n",
        "\n",
        "import requests\n",
        "import tarfile"
      ],
      "execution_count": null,
      "outputs": []
    },
    {
      "cell_type": "code",
      "metadata": {
        "id": "1XEuUvOdYhD0"
      },
      "source": [
        "(x_train, y_train), (x_test, y_test) = cifar10.load_data()\n",
        "trainimages=(x_train)\n",
        "testimages=(x_test)\n",
        "traincategorylabels=(y_train)\n",
        "testcategorylabels=(y_test)"
      ],
      "execution_count": null,
      "outputs": []
    },
    {
      "cell_type": "code",
      "metadata": {
        "colab": {
          "base_uri": "https://localhost:8080/",
          "height": 284
        },
        "id": "Xl53L-QlY9Lb",
        "outputId": "0bab4c58-9efe-4d53-9060-100898acec42"
      },
      "source": [
        "plt.imshow((testimages[userimagenumber]))"
      ],
      "execution_count": null,
      "outputs": [
        {
          "output_type": "execute_result",
          "data": {
            "text/plain": [
              "<matplotlib.image.AxesImage at 0x7f2ac74c3eb8>"
            ]
          },
          "metadata": {
            "tags": []
          },
          "execution_count": 4
        },
        {
          "output_type": "display_data",
          "data": {
            "image/png": "[encoded data removed]",
            "text/plain": [
              "<Figure size 432x288 with 1 Axes>"
            ]
          },
          "metadata": {
            "tags": [],
            "needs_background": "light"
          }
        }
      ]
    },
    {
      "cell_type": "code",
      "metadata": {
        "id": "LBsJ3EvooprV"
      },
      "source": [
        "plt.imsave('test.png', testimages[userimagenumber])"
      ],
      "execution_count": null,
      "outputs": []
    },
    {
      "cell_type": "markdown",
      "metadata": {
        "id": "sZZ52w1Ie6v-"
      },
      "source": [
        "#Sophisticated approach to create Postgres SQL Database"
      ]
    },
    {
      "cell_type": "markdown",
      "metadata": {
        "id": "xHxb-dlhMIzW"
      },
      "source": [
        "### Overview\n",
        "\n",
        "This tutorial shows how to create a PostgreSQL database server.\n",
        "\n",
        "A SQL database is an important source of data for data scientist. As one of the most popular open source SQL database, [PostgreSQL](https://www.postgresql.org) is widely used in enterprises for storing critial and transactional data across the board."
      ]
    },
    {
      "cell_type": "markdown",
      "metadata": {
        "id": "MUXex9ctTuDB"
      },
      "source": [
        "### Setup and usage"
      ]
    },
    {
      "cell_type": "markdown",
      "metadata": {
        "id": "yZmI7l_GykcW"
      },
      "source": [
        "#### Install and setup PostgreSQL (optional)\n",
        "\n",
        "**Warning: This notebook is designed to be run in a Google Colab only**. *It installs packages on the system and requires sudo access. If you want to run it in a local Jupyter notebook, please proceed with caution.*\n",
        "\n",
        "In order to demo the usage on Google Colab you will install PostgreSQL server. The password and an empty database is also needed.\n",
        "\n",
        "If you are not running this notebook on Google Colab, or you prefer to use an existing database, please skip the following setup and proceed to the next section."
      ]
    },
    {
      "cell_type": "code",
      "metadata": {
        "id": "YUj0878jPyz7",
        "colab": {
          "base_uri": "https://localhost:8080/"
        },
        "outputId": "298890a3-3e27-414c-dda9-3183df9b4e8f"
      },
      "source": [
        "# Install postgresql server\n",
        "!sudo apt-get -y -qq update\n",
        "!sudo apt-get -y -qq install postgresql\n",
        "!sudo service postgresql start\n",
        "\n",
        "# Setup a password `postgres` for username `postgres`\n",
        "!sudo -u postgres psql -U postgres -c \"ALTER USER postgres PASSWORD 'postgres';\"\n",
        "\n",
        "# Setup a database with name `tfio_demo` to be used\n",
        "!sudo -u postgres psql -U postgres -c 'DROP DATABASE IF EXISTS tfio_demo;'\n",
        "!sudo -u postgres psql -U postgres -c 'CREATE DATABASE tfio_demo;'"
      ],
      "execution_count": null,
      "outputs": [
        {
          "output_type": "stream",
          "text": [
            " * Starting PostgreSQL 10 database server\n",
            "   ...done.\n",
            "ALTER ROLE\n",
            "DROP DATABASE\n",
            "CREATE DATABASE\n"
          ],
          "name": "stdout"
        }
      ]
    },
    {
      "cell_type": "markdown",
      "metadata": {
        "id": "e4_59-RLMRgT"
      },
      "source": [
        "#### Setup necessary environmental variables\n",
        "\n",
        "The following environmental variables are based on the PostgreSQL setup in the last section. If you have a different setup or you are using an existing database, they should be changed accordingly:\n"
      ]
    },
    {
      "cell_type": "code",
      "metadata": {
        "id": "0dRotqDMswcK",
        "colab": {
          "base_uri": "https://localhost:8080/"
        },
        "outputId": "4ddeddc9-b3da-4902-b1e7-5187e3b29fea"
      },
      "source": [
        "%env TFIO_DEMO_DATABASE_NAME=tfio_demo\n",
        "%env TFIO_DEMO_DATABASE_HOST=localhost\n",
        "%env TFIO_DEMO_DATABASE_PORT=5432\n",
        "%env TFIO_DEMO_DATABASE_USER=postgres\n",
        "%env TFIO_DEMO_DATABASE_PASS=postgres"
      ],
      "execution_count": null,
      "outputs": [
        {
          "output_type": "stream",
          "text": [
            "env: TFIO_DEMO_DATABASE_NAME=tfio_demo\n",
            "env: TFIO_DEMO_DATABASE_HOST=localhost\n",
            "env: TFIO_DEMO_DATABASE_PORT=5432\n",
            "env: TFIO_DEMO_DATABASE_USER=postgres\n",
            "env: TFIO_DEMO_DATABASE_PASS=postgres\n"
          ],
          "name": "stdout"
        }
      ]
    },
    {
      "cell_type": "markdown",
      "metadata": {
        "id": "i7NiheUD4_io"
      },
      "source": [
        "#Train & save a model, splitted up"
      ]
    },
    {
      "cell_type": "code",
      "metadata": {
        "id": "OSZb-SB74_is"
      },
      "source": [
        "#Train a simple deep CNN on the CIFAR10 small images dataset.\n",
        "#It gets to 75% validation accuracy in 25 epochs, and 79% after 50 epochs.\n",
        "#(it's still underfitting at that point, though).\n",
        "\n"
      ],
      "execution_count": null,
      "outputs": []
    },
    {
      "cell_type": "code",
      "metadata": {
        "id": "Shwk69T7oFwj"
      },
      "source": [
        "\n",
        "batch_size = 32\n",
        "num_classes = 10\n",
        "epochs = 1\n",
        "data_augmentation = True\n",
        "num_predictions = 20\n",
        "save_dir = os.path.join(os.getcwd(), 'saved_models')\n",
        "model_name = 'keras_cifar10_trained_model.h5'\n",
        "\n"
      ],
      "execution_count": null,
      "outputs": []
    },
    {
      "cell_type": "code",
      "metadata": {
        "colab": {
          "base_uri": "https://localhost:8080/"
        },
        "id": "XX9HI0gaoERw",
        "outputId": "38166374-57d1-4df0-9621-603954632e7e"
      },
      "source": [
        "\n",
        "# The data, split between train and test sets:\n",
        "(x_train, y_train), (x_test, y_test) = cifar10.load_data()\n",
        "print('x_train shape:', x_train.shape)\n",
        "print(x_train.shape[0], 'train samples')\n",
        "print(x_test.shape[0], 'test samples')\n"
      ],
      "execution_count": null,
      "outputs": [
        {
          "output_type": "stream",
          "text": [
            "x_train shape: (50000, 32, 32, 3)\n",
            "50000 train samples\n",
            "10000 test samples\n"
          ],
          "name": "stdout"
        }
      ]
    },
    {
      "cell_type": "code",
      "metadata": {
        "id": "YN8bWO9woCWy"
      },
      "source": [
        "# Convert class vectors to binary class matrices.\n",
        "y_train = keras.utils.to_categorical(y_train, num_classes)\n",
        "y_test = keras.utils.to_categorical(y_test, num_classes)\n",
        "\n",
        "model = Sequential()\n",
        "model.add(Conv2D(32, (3, 3), padding='same',\n",
        "                 input_shape=x_train.shape[1:]))\n",
        "model.add(Activation('relu'))\n",
        "model.add(Conv2D(32, (3, 3)))\n",
        "model.add(Activation('relu'))\n",
        "model.add(MaxPooling2D(pool_size=(2, 2)))\n",
        "model.add(Dropout(0.25))\n",
        "\n",
        "model.add(Conv2D(64, (3, 3), padding='same'))\n",
        "model.add(Activation('relu'))\n",
        "model.add(Conv2D(64, (3, 3)))\n",
        "model.add(Activation('relu'))\n",
        "model.add(MaxPooling2D(pool_size=(2, 2)))\n",
        "model.add(Dropout(0.25))\n",
        "\n",
        "model.add(Flatten())\n",
        "model.add(Dense(512))\n",
        "model.add(Activation('relu'))\n",
        "model.add(Dropout(0.5))\n",
        "model.add(Dense(num_classes))\n",
        "model.add(Activation('softmax'))"
      ],
      "execution_count": null,
      "outputs": []
    },
    {
      "cell_type": "code",
      "metadata": {
        "colab": {
          "base_uri": "https://localhost:8080/"
        },
        "id": "AerMbk_Tn-f0",
        "outputId": "3e20d260-ad74-401e-b30b-c6aedbb4ff9c"
      },
      "source": [
        "# initiate RMSprop optimizer\n",
        "opt = keras.optimizers.RMSprop(learning_rate=0.0001, decay=1e-6)\n",
        "\n",
        "# Let's train the model using RMSprop\n",
        "model.compile(loss='categorical_crossentropy',\n",
        "              optimizer=opt,\n",
        "              metrics=['accuracy'])\n",
        "\n",
        "x_train = x_train.astype('float32')\n",
        "x_test = x_test.astype('float32')\n",
        "x_train /= 255\n",
        "x_test /= 255\n",
        "\n",
        "if not data_augmentation:\n",
        "    print('Not using data augmentation.')\n",
        "    model.fit(x_train, y_train,\n",
        "              batch_size=batch_size,\n",
        "              epochs=epochs,\n",
        "              validation_data=(x_test, y_test),\n",
        "              shuffle=True)\n",
        "else:\n",
        "    print('Using real-time data augmentation.')\n",
        "    # This will do preprocessing and realtime data augmentation:\n",
        "    datagen = ImageDataGenerator(\n",
        "        featurewise_center=False,  # set input mean to 0 over the dataset\n",
        "        samplewise_center=False,  # set each sample mean to 0\n",
        "        featurewise_std_normalization=False,  # divide inputs by std of the dataset\n",
        "        samplewise_std_normalization=False,  # divide each input by its std\n",
        "        zca_whitening=False,  # apply ZCA whitening\n",
        "        zca_epsilon=1e-06,  # epsilon for ZCA whitening\n",
        "        rotation_range=0,  # randomly rotate images in the range (degrees, 0 to 180)\n",
        "        # randomly shift images horizontally (fraction of total width)\n",
        "        width_shift_range=0.1,\n",
        "        # randomly shift images vertically (fraction of total height)\n",
        "        height_shift_range=0.1,\n",
        "        shear_range=0.,  # set range for random shear\n",
        "        zoom_range=0.,  # set range for random zoom\n",
        "        channel_shift_range=0.,  # set range for random channel shifts\n",
        "        # set mode for filling points outside the input boundaries\n",
        "        fill_mode='nearest',\n",
        "        cval=0.,  # value used for fill_mode = \"constant\"\n",
        "        horizontal_flip=True,  # randomly flip images\n",
        "        vertical_flip=False,  # randomly flip images\n",
        "        # set rescaling factor (applied before any other transformation)\n",
        "        rescale=None,\n",
        "        # set function that will be applied on each input\n",
        "        preprocessing_function=None,\n",
        "        # image data format, either \"channels_first\" or \"channels_last\"\n",
        "        data_format=None,\n",
        "        # fraction of images reserved for validation (strictly between 0 and 1)\n",
        "        validation_split=0.0)\n",
        "\n",
        "    # Compute quantities required for feature-wise normalization\n",
        "    # (std, mean, and principal components if ZCA whitening is applied).\n",
        "    datagen.fit(x_train)\n",
        "\n",
        "    # Fit the model on the batches generated by datagen.flow().\n",
        "    model.fit_generator(datagen.flow(x_train, y_train,\n",
        "                                     batch_size=batch_size),\n",
        "                        epochs=epochs,\n",
        "                        validation_data=(x_test, y_test),\n",
        "                        workers=4)\n",
        "\n"
      ],
      "execution_count": null,
      "outputs": [
        {
          "output_type": "stream",
          "text": [
            "Using real-time data augmentation.\n"
          ],
          "name": "stdout"
        },
        {
          "output_type": "stream",
          "text": [
            "/usr/local/lib/python3.6/dist-packages/tensorflow/python/keras/engine/training.py:1844: UserWarning: `Model.fit_generator` is deprecated and will be removed in a future version. Please use `Model.fit`, which supports generators.\n",
            "  warnings.warn('`Model.fit_generator` is deprecated and '\n"
          ],
          "name": "stderr"
        },
        {
          "output_type": "stream",
          "text": [
            "1563/1563 [==============================] - 237s 151ms/step - loss: 2.0563 - accuracy: 0.2325 - val_loss: 1.6203 - val_accuracy: 0.4186\n"
          ],
          "name": "stdout"
        }
      ]
    },
    {
      "cell_type": "code",
      "metadata": {
        "id": "w4I18XvMn6cN",
        "colab": {
          "base_uri": "https://localhost:8080/"
        },
        "outputId": "d4860444-754f-46d8-dc38-124f8ae4d64a"
      },
      "source": [
        "# Save model and weights\n",
        "if not os.path.isdir(save_dir):\n",
        "    os.makedirs(save_dir)\n",
        "model_path = os.path.join(save_dir, model_name)\n",
        "model.save(model_path)\n",
        "print('Saved trained model at %s ' % model_path)"
      ],
      "execution_count": null,
      "outputs": [
        {
          "output_type": "stream",
          "text": [
            "Saved trained model at /content/saved_models/keras_cifar10_trained_model.h5 \n"
          ],
          "name": "stdout"
        }
      ]
    },
    {
      "cell_type": "code",
      "metadata": {
        "id": "9ocSj3SMn1l-",
        "colab": {
          "base_uri": "https://localhost:8080/"
        },
        "outputId": "1749dfe8-c056-4254-d1cf-1c0c520a042f"
      },
      "source": [
        "# Score trained model.\n",
        "scores = model.evaluate(x_test, y_test, verbose=1)\n",
        "print('Test loss:', scores[0])\n",
        "print('Test accuracy:', scores[1])"
      ],
      "execution_count": null,
      "outputs": [
        {
          "output_type": "stream",
          "text": [
            "313/313 [==============================] - 9s 29ms/step - loss: 1.6203 - accuracy: 0.4186\n",
            "Test loss: 1.6202788352966309\n",
            "Test accuracy: 0.4185999929904938\n"
          ],
          "name": "stdout"
        }
      ]
    },
    {
      "cell_type": "markdown",
      "metadata": {
        "id": "Rf80pcv65c6c"
      },
      "source": [
        "#Load our trained model (.h5 model)"
      ]
    },
    {
      "cell_type": "markdown",
      "metadata": {
        "id": "bpJbC3BmsQcO"
      },
      "source": [
        "cv2.imshow() had to be deactivated cause it does not work on Google Colab (see also DisabledFunctionError: cv2.imshow() is disabled in Colab, because it causes Jupyter sessions\n",
        "to crash; see https://github.com/jupyter/notebook/issues/3935.\n",
        "As a substitution, consider using\n",
        "  from google.colab.patches import cv2_imshow)"
      ]
    },
    {
      "cell_type": "code",
      "metadata": {
        "id": "0V9Mcxo4tlPq",
        "colab": {
          "base_uri": "https://localhost:8080/"
        },
        "outputId": "3a4d817a-67b8-457d-8b2a-5e6f35f8ed78"
      },
      "source": [
        "#Set Initials\n",
        "import os\n",
        "\n",
        "def set_initials():\n",
        "\n",
        " #set values for training specifications\n",
        " batch_size = 32\n",
        " num_classes = 10\n",
        " epochs = 1 #Defines the amount of epochs to be processed\n",
        " data_augmentation = True\n",
        " num_predictions = 20\n",
        " \n",
        " #set model name and working directory\n",
        " model_name = 'keras_cifar10_trained_model.h5'\n",
        " save_dir = os.path.join(os.getcwd(), 'saved_models')\n",
        " return batch_size, num_classes, epochs, data_augmentation, num_predictions, model_name, save_dir\n",
        " #newly added by Adrian 6.1.2021:\n",
        "set_initials()"
      ],
      "execution_count": null,
      "outputs": [
        {
          "output_type": "execute_result",
          "data": {
            "text/plain": [
              "(32,\n",
              " 10,\n",
              " 1,\n",
              " True,\n",
              " 20,\n",
              " 'keras_cifar10_trained_model.h5',\n",
              " '/content/saved_models')"
            ]
          },
          "metadata": {
            "tags": []
          },
          "execution_count": 15
        }
      ]
    },
    {
      "cell_type": "code",
      "metadata": {
        "id": "rIU3N2wPx_Lh"
      },
      "source": [
        "#prep Cifar 10\n",
        "\n",
        "\n",
        "import keras\n",
        "from keras.datasets import cifar10\n",
        "\n",
        "#Preparing the data\n",
        "# The data, split between train and test sets\n",
        "\n",
        "def prepare_data():\n",
        " (x_train, y_train), (x_test, y_test) = cifar10.load_data()\n",
        " print('x_train shape:', x_train.shape)\n",
        " print(x_train.shape[0], 'train samples')\n",
        " print(x_test.shape[0], 'test samples') \n",
        " return x_train, y_train, x_test, y_test\n",
        "\n",
        "\n",
        "\n",
        "# Convert test and training class vectors to categorical class matrices.\n",
        "\n",
        "def data_to_categorical(y_train, y_test, num_classes):\n",
        " y_train = keras.utils.to_categorical(y_train, num_classes)\n",
        " y_test = keras.utils.to_categorical(y_test, num_classes)\n",
        " return y_train, y_test\n",
        " "
      ],
      "execution_count": null,
      "outputs": []
    },
    {
      "cell_type": "code",
      "metadata": {
        "id": "kU6gjN_Or4mG"
      },
      "source": [
        "#test\n",
        "# Source: https://gurus.pyimagesearch.com/lesson-sample-running-a-pre-trained-network/#. Import the necessary packages\n",
        "from __future__ import print_function\n",
        "from keras.models import load_model\n",
        "from keras.datasets import cifar10\n",
        "from imutils import paths\n",
        "import numpy as np\n",
        "import imutils\n",
        "#commented out by Adrian 6.1.2021\n",
        "import cv2\n",
        "import os\n",
        "#new addon:\n",
        "from google.colab.patches import cv2_imshow\n",
        "#added by Adrian 6.1.2021\n",
        "from cv2 import cvtColor\n",
        "\n",
        "def testing(model_name, save_dir, batch_size, y_test):\n",
        "\n",
        " # initialize the ground-truth labels for the CIFAR-10 dataset\n",
        " gtLabels = [\"airplane\", \"automobile\", \"bird\", \"cat\", \"deer\", \"dog\", \"frog\", \"horse\",\n",
        "\t\"ship\", \"truck\"]\n",
        " \n",
        " # load the network\n",
        " print(\"[INFO] loading network architecture and weights...\")\n",
        " model_path = os.path.join(save_dir, model_name)\n",
        " model = load_model(model_path)\n",
        " \n"
      ],
      "execution_count": null,
      "outputs": []
    },
    {
      "cell_type": "code",
      "metadata": {
        "id": "TfFP1JaCxzpz",
        "colab": {
          "base_uri": "https://localhost:8080/"
        },
        "outputId": "c414f0e5-ba3b-4dec-aace-0fbe0c91672d"
      },
      "source": [
        "#load and test\n",
        "from __future__ import print_function\n",
        "from imutils import paths\n",
        "import numpy as np\n",
        "import argparse\n",
        "import imutils\n",
        "#commented out by Adrian 6.1.2021:\n",
        "#import cv2\n",
        "from cv2 import cvtColor\n",
        "import keras\n",
        "from keras.datasets import cifar10\n",
        "from keras.preprocessing.image import ImageDataGenerator\n",
        "from keras.models import Sequential\n",
        "from keras.models import load_model\n",
        "from keras.layers import Dense, Dropout, Activation, Flatten\n",
        "from keras.layers import Conv2D, MaxPooling2D\n",
        "import os\n",
        "\n",
        "\n",
        "#from set_initials import set_initials\n",
        "batch_size, num_classes, epochs, data_augmentation, num_predictions, model_name, save_dir = set_initials() \n",
        "print(model_name)\n",
        "\n",
        "#from prep_cifar10 import prepare_data\n",
        "x_train, y_train, x_test, y_test = prepare_data()\n",
        "\n",
        "#from test import testing\n",
        "#testing(model_name, save_dir, batch_size, y_test)"
      ],
      "execution_count": null,
      "outputs": [
        {
          "output_type": "stream",
          "text": [
            "keras_cifar10_trained_model.h5\n",
            "x_train shape: (50000, 32, 32, 3)\n",
            "50000 train samples\n",
            "10000 test samples\n"
          ],
          "name": "stdout"
        }
      ]
    },
    {
      "cell_type": "markdown",
      "metadata": {
        "id": "ZYJHm3WFu2De"
      },
      "source": [
        "#Make a prediction with of our sample picture"
      ]
    },
    {
      "cell_type": "markdown",
      "metadata": {
        "id": "MKVKIVOQu2Dw"
      },
      "source": [
        "Our code adapted from Milestone 3. Test one sample and return \r\n",
        "1. the ndarray testData, which is the sample image\r\n",
        "2. a string, true label test_label and \r\n",
        "3. another string, the predicted label pred_label"
      ]
    },
    {
      "cell_type": "code",
      "metadata": {
        "id": "O_oCVZL3u2Dx"
      },
      "source": [
        "def test_one(model):\r\n",
        " # initialize the ground-truth labels for the CIFAR-10 dataset\r\n",
        " gtLabels = [\"airplane\", \"automobile\", \"bird\", \"cat\", \"deer\", \"dog\", \"frog\", \"horse\", \"ship\", \"truck\"]\r\n",
        " \r\n",
        "  # scale the data points into the range [0, 1]\r\n",
        " print(\"[INFO] sampling one image from CIFAR-10...\")\r\n",
        " (testData, testLabels) = cifar10.load_data()[1] #ND Array, 50000 x 32 x 32 x 3, takes second picture out of the dataset\r\n",
        " testData = testData.astype(\"float\") / 255.0\r\n",
        " #idxs = np.random.choice(testData.shape[0], size=(1,), replace=False)\r\n",
        " idxs = np.array([userimagenumber])\r\n",
        " print('idxs/userimagenumber & type of idxs')\r\n",
        " print(idxs)\r\n",
        " print(type(idxs))\r\n",
        " (testData, testLabels) = (testData[idxs], testLabels[idxs])\r\n",
        " testLabels = testLabels.flatten()\r\n",
        "\r\n",
        " # make predictions on the sample of testing data\r\n",
        " print(\"[INFO] predicting on testing data...\")\r\n",
        " probs = model.predict(testData, batch_size=32)\r\n",
        " predictions = probs.argmax(axis=1)\r\n",
        " \r\n",
        " # loop over each of the testing data points\r\n",
        " for (i, prediction) in enumerate(predictions):\r\n",
        "\t print(\"[INFO] predicted: {}, actual: {}\".format(gtLabels[prediction], gtLabels[testLabels[i]]))\r\n",
        "\t\r\n",
        " for (i, prediction) in enumerate(predictions):\r\n",
        "  pred_label=gtLabels[prediction]\r\n",
        "  test_label=gtLabels[testLabels[i]] \r\n",
        "\t \r\n",
        " return testData, test_label, pred_label \r\n"
      ],
      "execution_count": null,
      "outputs": []
    },
    {
      "cell_type": "code",
      "metadata": {
        "id": "nCeOyD1ju2Dy",
        "colab": {
          "base_uri": "https://localhost:8080/"
        },
        "outputId": "f2bf4686-de99-4266-8d4f-b1d325bbd313"
      },
      "source": [
        "testData, test_label, pred_label = test_one(model)"
      ],
      "execution_count": null,
      "outputs": [
        {
          "output_type": "stream",
          "text": [
            "[INFO] sampling one image from CIFAR-10...\n",
            "idxs/userimagenumber & type of idxs\n",
            "[40]\n",
            "<class 'numpy.ndarray'>\n",
            "[INFO] predicting on testing data...\n",
            "[INFO] predicted: automobile, actual: deer\n"
          ],
          "name": "stdout"
        }
      ]
    },
    {
      "cell_type": "markdown",
      "metadata": {
        "id": "fgJEjq4_DdJp"
      },
      "source": [
        "#Save to Postgres Database we created in the first step with Code from Milestone3 Task3 "
      ]
    },
    {
      "cell_type": "markdown",
      "metadata": {
        "id": "oxdX6lEVhhQf"
      },
      "source": [
        "Based on code from Milestone 3 Task 3. Saving the prediction of a testimage."
      ]
    },
    {
      "cell_type": "code",
      "metadata": {
        "id": "2zRrtkaxhDa5",
        "colab": {
          "base_uri": "https://localhost:8080/"
        },
        "outputId": "f2eecc0b-4d75-43ab-fd99-6759dd00e22b"
      },
      "source": [
        "import psycopg2\n",
        "import numpy as np\n",
        "\n",
        "host = \"localhost\"\n",
        "database = \"tfio_demo\"\n",
        "port = \"5432\"\n",
        "user = \"postgres\"\n",
        "password = \"postgres\"\n",
        "\n",
        "#before the changes the code was as follows:\n",
        "#host = \"127.0.0.1\"\n",
        "#database = \"postgres\"\n",
        "#port = \"5432\"\n",
        "#user = input(\"Insert a name for your database:\") or \"postgres\"\n",
        "#password = input(\"Insert a password for your database:\") or \"pgpass\"\n",
        "\n",
        "\n",
        "con = psycopg2.connect(dbname=database, user=user, password=password, host=host, port = port)\n",
        "\n",
        "cur = con.cursor()\n",
        "\n",
        "# create input data table\n",
        "#cur.execute(\"CREATE TABLE input_data (ID SERIAL PRIMARY KEY, input_label TEXT);\")\n",
        "\n",
        "#create predictions table\n",
        "#cur.execute(\"CREATE TABLE predictions (ID SERIAL PRIMARY KEY, prediction TEXT);\")\n",
        "\n",
        "#train the model and store it\n",
        "#also make it available in this script\n",
        "#import main\n",
        "#model = main.model\n",
        "\n",
        "#store test data, test label, prediction label\n",
        "#from test import test_one\n",
        "testData, test_label, pred_label = test_one(model)\n",
        "\n",
        "cur.execute(\"CREATE TABLE input_data (ID SERIAL PRIMARY KEY, input_label varchar);\")\n",
        "cur.execute(\"CREATE TABLE predictions (ID SERIAL PRIMARY KEY, prediction varchar);\")\n",
        "\n",
        "#load testdata into database input_data\n",
        "cur.execute(\"insert into input_data (ID, input_label) values (%s, %s)\", (3, test_label) )\n",
        "\n",
        "#load prediction into database predictions\n",
        "cur.execute(\"insert into predictions (ID, prediction) values (%s, %s)\", (3, pred_label) )\n",
        "\n",
        "\n",
        "\n",
        "#execute query\n",
        "cur.execute(\"select * from input_data;\")\n",
        "print (\"These are the inputs that have been tested so far:\")\n",
        "print(cur.fetchall())\n",
        "\n",
        "\n",
        "cur.execute(\"select * from predictions;\")\n",
        "print (\"The CNN predicted the tested inputs to be:\")\n",
        "print(cur.fetchall())\n",
        "\n",
        "\n",
        "#commit data to db\n",
        "con.commit()\n",
        "\n",
        "\n",
        "con.close()"
      ],
      "execution_count": null,
      "outputs": [
        {
          "output_type": "stream",
          "text": [
            "[INFO] sampling one image from CIFAR-10...\n"
          ],
          "name": "stdout"
        },
        {
          "output_type": "stream",
          "text": [
            "/usr/local/lib/python3.6/dist-packages/psycopg2/__init__.py:144: UserWarning: The psycopg2 wheel package will be renamed from release 2.8; in order to keep installing from binary please use \"pip install psycopg2-binary\" instead. For details see: <http://initd.org/psycopg/docs/install.html#binary-install-from-pypi>.\n",
            "  \"\"\")\n"
          ],
          "name": "stderr"
        },
        {
          "output_type": "stream",
          "text": [
            "idxs/userimagenumber & type of idxs\n",
            "[40]\n",
            "<class 'numpy.ndarray'>\n",
            "[INFO] predicting on testing data...\n",
            "[INFO] predicted: automobile, actual: deer\n",
            "These are the inputs that have been tested so far:\n",
            "[(3, 'deer')]\n",
            "The CNN predicted the tested inputs to be:\n",
            "[(3, 'automobile')]\n"
          ],
          "name": "stdout"
        }
      ]
    },
    {
      "cell_type": "markdown",
      "metadata": {
        "id": "RZqhuSQ6vbwt"
      },
      "source": [
        "#Prepare a Flask"
      ]
    },
    {
      "cell_type": "markdown",
      "metadata": {
        "id": "Tw6nDt4_vbwt"
      },
      "source": [
        "Based on this tutorial: https://medium.com/@kshitijvijay271199/flask-on-google-colab-f6525986797b and this one:\n",
        "https://github.com/gstaff/flask-ngrok"
      ]
    },
    {
      "cell_type": "code",
      "metadata": {
        "id": "oZPYjfZfvbwu",
        "colab": {
          "base_uri": "https://localhost:8080/"
        },
        "outputId": "d608ce44-6391-4048-8f8a-04fa0cbabb2f"
      },
      "source": [
        "!pip install flask-ngrok\n",
        "!pip install flask==0.12.2"
      ],
      "execution_count": null,
      "outputs": [
        {
          "output_type": "stream",
          "text": [
            "Requirement already satisfied: flask-ngrok in /usr/local/lib/python3.6/dist-packages (0.0.25)\n",
            "Requirement already satisfied: requests in /usr/local/lib/python3.6/dist-packages (from flask-ngrok) (2.23.0)\n",
            "Requirement already satisfied: Flask>=0.8 in /usr/local/lib/python3.6/dist-packages (from flask-ngrok) (0.12.2)\n",
            "Requirement already satisfied: urllib3!=1.25.0,!=1.25.1,<1.26,>=1.21.1 in /usr/local/lib/python3.6/dist-packages (from requests->flask-ngrok) (1.24.3)\n",
            "Requirement already satisfied: idna<3,>=2.5 in /usr/local/lib/python3.6/dist-packages (from requests->flask-ngrok) (2.10)\n",
            "Requirement already satisfied: chardet<4,>=3.0.2 in /usr/local/lib/python3.6/dist-packages (from requests->flask-ngrok) (3.0.4)\n",
            "Requirement already satisfied: certifi>=2017.4.17 in /usr/local/lib/python3.6/dist-packages (from requests->flask-ngrok) (2020.12.5)\n",
            "Requirement already satisfied: Jinja2>=2.4 in /usr/local/lib/python3.6/dist-packages (from Flask>=0.8->flask-ngrok) (2.11.2)\n",
            "Requirement already satisfied: click>=2.0 in /usr/local/lib/python3.6/dist-packages (from Flask>=0.8->flask-ngrok) (7.1.2)\n",
            "Requirement already satisfied: itsdangerous>=0.21 in /usr/local/lib/python3.6/dist-packages (from Flask>=0.8->flask-ngrok) (1.1.0)\n",
            "Requirement already satisfied: Werkzeug>=0.7 in /usr/local/lib/python3.6/dist-packages (from Flask>=0.8->flask-ngrok) (1.0.1)\n",
            "Requirement already satisfied: MarkupSafe>=0.23 in /usr/local/lib/python3.6/dist-packages (from Jinja2>=2.4->Flask>=0.8->flask-ngrok) (1.1.1)\n",
            "Requirement already satisfied: flask==0.12.2 in /usr/local/lib/python3.6/dist-packages (0.12.2)\n",
            "Requirement already satisfied: Jinja2>=2.4 in /usr/local/lib/python3.6/dist-packages (from flask==0.12.2) (2.11.2)\n",
            "Requirement already satisfied: Werkzeug>=0.7 in /usr/local/lib/python3.6/dist-packages (from flask==0.12.2) (1.0.1)\n",
            "Requirement already satisfied: itsdangerous>=0.21 in /usr/local/lib/python3.6/dist-packages (from flask==0.12.2) (1.1.0)\n",
            "Requirement already satisfied: click>=2.0 in /usr/local/lib/python3.6/dist-packages (from flask==0.12.2) (7.1.2)\n",
            "Requirement already satisfied: MarkupSafe>=0.23 in /usr/local/lib/python3.6/dist-packages (from Jinja2>=2.4->flask==0.12.2) (1.1.1)\n"
          ],
          "name": "stdout"
        }
      ]
    },
    {
      "cell_type": "code",
      "metadata": {
        "id": "N4rID8i8vbw5",
        "colab": {
          "base_uri": "https://localhost:8080/"
        },
        "outputId": "c272108d-437b-4ef5-ae39-8522661fa723"
      },
      "source": [
        "# flask_ngrok_example.py\n",
        "from flask import Flask\n",
        "from flask_ngrok import run_with_ngrok\n",
        "\n",
        "app = Flask(__name__)\n",
        "run_with_ngrok(app)  # Start ngrok when app is run\n",
        "\n",
        "stringuserimagenumber = str(userimagenumber)\n",
        "stringpred_label = str(pred_label)\n",
        "stringtest_label = str(test_label)\n",
        "#image = plt.imread(test.png)\n",
        "\n",
        "@app.route(\"/\")\n",
        "def welcome():\n",
        "    output = \"<h1>Welcome!</h1><br>Please enter /predict in your browser line to see an overview of the testing.\"\n",
        "    return output\n",
        "    #return image\n",
        "\n",
        "@app.route(\"/predict\")\n",
        "def predict():\n",
        "    output = \"<h1>Welcome!</h1><br>Please find below an overview of the testing.<br><br>You have selected the following image number out of the CIFAR 10 test dataset: \" + str(userimagenumber) + \"<br><br>Please add in your browser URL '/yourimage' to see your test image, out of the CIFAR 10 test dataset.\" + \"<br><br>The model predicted the following category of the picture: \" + str(pred_label) + \"<br><br>The following category is the correct one: \" + str(test_label)\n",
        "    return output\n",
        "    #return image\n",
        "\n",
        "from flask import send_file\n",
        "\n",
        "@app.route('/predict/yourimage')\n",
        "def get_image():\n",
        "    filename = 'test.png'\n",
        "    return send_file(filename, mimetype='image/png')\n",
        "\n",
        "if __name__ == '__main__':\n",
        "    app.run()\n",
        "\n",
        "#Code below: Show everything that was done in the Flask / Browserview"
      ],
      "execution_count": null,
      "outputs": [
        {
          "output_type": "stream",
          "text": [
            " * Running on http://127.0.0.1:5000/ (Press CTRL+C to quit)\n"
          ],
          "name": "stderr"
        },
        {
          "output_type": "stream",
          "text": [
            " * Running on http://de3b62663b00.ngrok.io\n",
            " * Traffic stats available on http://127.0.0.1:4040\n"
          ],
          "name": "stdout"
        }
      ]
    },
    {
      "cell_type": "code",
      "metadata": {
        "colab": {
          "base_uri": "https://localhost:8080/"
        },
        "id": "jRvEE1Q-zpO7",
        "outputId": "57264449-9a24-4f20-d401-db0153aa58bf"
      },
      "source": [
        "#the below is just some legacy code that was worked on for the last functions in github\n",
        "\n",
        "#from flask import Flask, redirect, url_for, render_template, request\n",
        "#\n",
        "#app = Flask(__name__)\n",
        "#run_with_ngrok(app)  # Start ngrok when app is run\n",
        "#\n",
        "#@app.route(\"/\")\n",
        "#def home():\n",
        "#    output = \"<h1>Welcome!</h1><br>Please enter /predict in your browser line to see an overview of the testing.\"\n",
        "#    return output\n",
        "#\n",
        "#@app.route(\"/login\", methods=[\"POST\", \"GET\"])\n",
        "#def login():\n",
        "#    if request.method == \"POST\":\n",
        "#        user = request.form[\"nm\"]\n",
        "#        return redirect(url_for(\"user\", usr=user))\n",
        "#    else:\n",
        "#        output = '<form action=\"#\" method=\"post\"><p>Pick a number:</p><p><input type=\"text\" name=\"nm\" /></p><p><input type=\"submit\" value=\"submit\"/></p></form>'\n",
        "#        return output\n",
        "#\n",
        "#@app.route(\"/<usr>\")\n",
        "#def user(usr):\n",
        "#    return f\"<h1>{usr}</h1>\"\n",
        "#\n",
        "#if __name__ == \"__main__\":\n",
        "#    app.run()"
      ],
      "execution_count": null,
      "outputs": [
        {
          "output_type": "stream",
          "text": [
            " * Running on http://127.0.0.1:5000/ (Press CTRL+C to quit)\n"
          ],
          "name": "stderr"
        },
        {
          "output_type": "stream",
          "text": [
            " * Running on http://a89e547a8fa1.ngrok.io\n",
            " * Traffic stats available on http://127.0.0.1:4040\n"
          ],
          "name": "stdout"
        },
        {
          "output_type": "stream",
          "text": [
            "127.0.0.1 - - [23/Jan/2021 01:32:33] \"\u001b[37mGET / HTTP/1.1\u001b[0m\" 200 -\n",
            "127.0.0.1 - - [23/Jan/2021 01:32:33] \"\u001b[37mGET /favicon.ico HTTP/1.1\u001b[0m\" 200 -\n",
            "127.0.0.1 - - [23/Jan/2021 01:32:37] \"\u001b[37mGET /login HTTP/1.1\u001b[0m\" 200 -\n",
            "127.0.0.1 - - [23/Jan/2021 01:32:37] \"\u001b[37mGET /favicon.ico HTTP/1.1\u001b[0m\" 200 -\n",
            "127.0.0.1 - - [23/Jan/2021 01:32:39] \"\u001b[32mPOST /login HTTP/1.1\u001b[0m\" 302 -\n",
            "127.0.0.1 - - [23/Jan/2021 01:32:39] \"\u001b[37mGET /so HTTP/1.1\u001b[0m\" 200 -\n",
            "127.0.0.1 - - [23/Jan/2021 01:32:40] \"\u001b[37mGET /favicon.ico HTTP/1.1\u001b[0m\" 200 -\n"
          ],
          "name": "stderr"
        }
      ]
    }
  ]
}